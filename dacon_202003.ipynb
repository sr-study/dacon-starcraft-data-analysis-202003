{
  "nbformat": 4,
  "nbformat_minor": 0,
  "metadata": {
    "colab": {
      "name": "dacon_202003.ipynb",
      "provenance": [],
      "collapsed_sections": [],
      "toc_visible": true,
      "machine_shape": "hm"
    },
    "kernelspec": {
      "name": "python3",
      "display_name": "Python 3"
    },
    "accelerator": "GPU"
  },
  "cells": [
    {
      "cell_type": "markdown",
      "metadata": {
        "colab_type": "text",
        "id": "gGqxeHiVnvQz"
      },
      "source": [
        "# 준비"
      ]
    },
    {
      "cell_type": "code",
      "metadata": {
        "colab_type": "code",
        "id": "DCAJJsHEgdmB",
        "colab": {}
      },
      "source": [
        "import sys\n",
        "IN_COLAB = 'google.colab' in sys.modules"
      ],
      "execution_count": 0,
      "outputs": []
    },
    {
      "cell_type": "markdown",
      "metadata": {
        "colab_type": "text",
        "id": "TuckFLnWoURA"
      },
      "source": [
        "\n",
        "## 패키지 설치"
      ]
    },
    {
      "cell_type": "code",
      "metadata": {
        "id": "h2vtGE-6QkuK",
        "colab_type": "code",
        "colab": {}
      },
      "source": [
        "!pip install pandas numpy tqdm==4.43.0 bayesian-optimization lightgbm"
      ],
      "execution_count": 0,
      "outputs": []
    },
    {
      "cell_type": "markdown",
      "metadata": {
        "colab_type": "text",
        "id": "EF-j7I4UodL2"
      },
      "source": [
        "## 라이브러리 임포트"
      ]
    },
    {
      "cell_type": "code",
      "metadata": {
        "colab_type": "code",
        "id": "fqYwCrpcn0lG",
        "colab": {}
      },
      "source": [
        "import sys\n",
        "import pandas as pd                         # 데이터 분석 라이브러리\n",
        "# import numpy as np                          # 계산 라이브러리\n",
        "# from tqdm.auto import tqdm                  # 진행바\n",
        "# from sklearn.metrics import roc_auc_score   # AUC 스코어 계산\n",
        "# from sklearn.model_selection import KFold   # K-fold CV    \n",
        "# from bayes_opt import BayesianOptimization  # 베이지안 최적화 라이브러리  \n",
        "# from functools import partial               # 함수 변수 고정\n",
        "# import lightgbm as lgb                      # LightGBM 라이브러리\n",
        "# import multiprocessing\n",
        "# import gc\n",
        "import importlib\n",
        "import warnings                             \n",
        "warnings.filterwarnings(\"ignore\")           # 경고 문구 미표시\n",
        "# tqdm.pandas()"
      ],
      "execution_count": 0,
      "outputs": []
    },
    {
      "cell_type": "code",
      "metadata": {
        "id": "247h3qsBrc37",
        "colab_type": "code",
        "colab": {}
      },
      "source": [
        "def reload_module(module):\n",
        "    for _ in range(2):\n",
        "        for k, v in sys.modules.items():\n",
        "            if k.startswith(module.__name__):\n",
        "                importlib.reload(v)"
      ],
      "execution_count": 0,
      "outputs": []
    },
    {
      "cell_type": "markdown",
      "metadata": {
        "id": "A9SDk87KLlhX",
        "colab_type": "text"
      },
      "source": [
        "## 상수 정의"
      ]
    },
    {
      "cell_type": "code",
      "metadata": {
        "id": "NdTp5JCFLh3X",
        "colab_type": "code",
        "colab": {}
      },
      "source": [
        "DATA_DIR = 'data'"
      ],
      "execution_count": 0,
      "outputs": []
    },
    {
      "cell_type": "markdown",
      "metadata": {
        "colab_type": "text",
        "id": "T_ifi5sWoa_D"
      },
      "source": [
        "## Colab 설정"
      ]
    },
    {
      "cell_type": "code",
      "metadata": {
        "id": "DwDSqfnhPEak",
        "colab_type": "code",
        "colab": {}
      },
      "source": [
        "if IN_COLAB:\n",
        "    import getpass\n",
        "    import urllib.parse\n",
        "\n",
        "    github_repo = \"github.com/Heo-H/dacon\"\n",
        "    branch_name = \"dacon-202003\"\n",
        "\n",
        "    print(\"Please enter your Github account.\")\n",
        "    github_username = urllib.parse.quote(input(\"username:\"))\n",
        "    github_password = urllib.parse.quote(getpass.getpass(\"password:\"))\n",
        "    github_url = f\"https://{github_username}:{github_password}@{github_repo}\"\n",
        "    github_sealed_url = f\"https://{github_username}:****@{github_repo}\"\n",
        "\n",
        "    output = !git clone -b $branch_name --single-branch $github_url tmp_dacon_202003 && mv tmp_dacon_202003/* . && rm -r tmp_dacon_202003\n",
        "    for line in output:\n",
        "        print(line.replace(github_url, github_sealed_url))\n",
        "\n",
        "    del github_repo\n",
        "    del github_username\n",
        "    del github_password\n",
        "    del github_url\n",
        "    del github_sealed_url\n",
        "    del branch_name"
      ],
      "execution_count": 0,
      "outputs": []
    },
    {
      "cell_type": "code",
      "metadata": {
        "id": "-DUVgdgBMrzD",
        "colab_type": "code",
        "colab": {}
      },
      "source": [
        "if IN_COLAB:\n",
        "    DRIVE_DIR = '/content/drive'\n",
        "    from google.colab import drive\n",
        "    drive.mount(DRIVE_DIR)\n",
        "\n",
        "    import os\n",
        "    os.symlink(f'{DRIVE_DIR}/My Drive/data', DATA_DIR)"
      ],
      "execution_count": 0,
      "outputs": []
    },
    {
      "cell_type": "markdown",
      "metadata": {
        "colab_type": "text",
        "id": "Xfisi3TQn1aT"
      },
      "source": [
        "# 학습 데이터"
      ]
    },
    {
      "cell_type": "code",
      "metadata": {
        "id": "QwthPpnDyM2a",
        "colab_type": "code",
        "colab": {}
      },
      "source": [
        "train = pd.read_csv('data/train.csv')"
      ],
      "execution_count": 0,
      "outputs": []
    },
    {
      "cell_type": "markdown",
      "metadata": {
        "id": "vsZDP-yhJPuE",
        "colab_type": "text"
      },
      "source": [
        "# 특징 추출"
      ]
    },
    {
      "cell_type": "code",
      "metadata": {
        "id": "i5BSAkAzj1-7",
        "colab_type": "code",
        "colab": {}
      },
      "source": [
        "import sclearn.feature_engineering\n",
        "reload_module(sclearn.feature_engineering)\n",
        "\n",
        "x_train = sclearn.feature_engineering.prepare_x_data(train)\n",
        "y_train = sclearn.feature_engineering.prepare_y_data(train)"
      ],
      "execution_count": 0,
      "outputs": []
    },
    {
      "cell_type": "code",
      "metadata": {
        "id": "c7sFC0FXpPMU",
        "colab_type": "code",
        "colab": {}
      },
      "source": [
        "x_train.head()"
      ],
      "execution_count": 0,
      "outputs": []
    },
    {
      "cell_type": "markdown",
      "metadata": {
        "id": "eYo8bpzpJPuL",
        "colab_type": "text"
      },
      "source": [
        "# 모델 구축"
      ]
    },
    {
      "cell_type": "code",
      "metadata": {
        "id": "dcUNb8_-o05x",
        "colab_type": "code",
        "colab": {}
      },
      "source": [
        "import sclearn.learning\n",
        "reload_module(sclearn.learning)\n",
        "\n",
        "models, lgb_bo, swap_table = sclearn.learning.train_models(x_train, y_train)"
      ],
      "execution_count": 0,
      "outputs": []
    },
    {
      "cell_type": "markdown",
      "metadata": {
        "id": "EwSiRzlwtZxX",
        "colab_type": "text"
      },
      "source": [
        "# 테스트"
      ]
    },
    {
      "cell_type": "code",
      "metadata": {
        "id": "5oxO65REuAW1",
        "colab_type": "code",
        "colab": {}
      },
      "source": [
        "test = pd.read_csv('data/test.csv')"
      ],
      "execution_count": 0,
      "outputs": []
    },
    {
      "cell_type": "code",
      "metadata": {
        "id": "D2wZT3QhtHwN",
        "colab_type": "code",
        "colab": {}
      },
      "source": [
        "import sclearn.feature_engineering\n",
        "reload_module(sclearn.feature_engineering)\n",
        "\n",
        "x_test = sclearn.feature_engineering.prepare_x_data(test)"
      ],
      "execution_count": 0,
      "outputs": []
    },
    {
      "cell_type": "code",
      "metadata": {
        "id": "QG7mxsDwyek5",
        "colab_type": "code",
        "colab": {}
      },
      "source": [
        "x_test.head()"
      ],
      "execution_count": 0,
      "outputs": []
    },
    {
      "cell_type": "code",
      "metadata": {
        "id": "fTkU1FY_xxpV",
        "colab_type": "code",
        "colab": {}
      },
      "source": [
        "import sclearn.learning\n",
        "reload_module(sclearn.learning)\n",
        "\n",
        "submission = sclearn.learning.test_models(models, x_test)\n",
        "submission.to_csv('submission.csv')\n",
        "submission.head()"
      ],
      "execution_count": 0,
      "outputs": []
    },
    {
      "cell_type": "code",
      "metadata": {
        "id": "JRRPLboQ6t4X",
        "colab_type": "code",
        "colab": {}
      },
      "source": [
        ""
      ],
      "execution_count": 0,
      "outputs": []
    }
  ]
}