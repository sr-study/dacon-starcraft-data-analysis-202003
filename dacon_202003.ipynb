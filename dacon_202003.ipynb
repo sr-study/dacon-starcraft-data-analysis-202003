{
 "cells": [
  {
   "cell_type": "markdown",
   "metadata": {
    "colab_type": "text",
    "id": "gGqxeHiVnvQz"
   },
   "source": [
    "# 준비"
   ]
  },
  {
   "cell_type": "code",
   "execution_count": 1,
   "metadata": {
    "colab": {},
    "colab_type": "code",
    "id": "DCAJJsHEgdmB"
   },
   "outputs": [],
   "source": [
    "import sys\n",
    "IN_COLAB = 'google.colab' in sys.modules"
   ]
  },
  {
   "cell_type": "markdown",
   "metadata": {
    "colab_type": "text",
    "id": "TuckFLnWoURA"
   },
   "source": [
    "\n",
    "## 패키지 설치"
   ]
  },
  {
   "cell_type": "code",
   "execution_count": 2,
   "metadata": {
    "colab": {},
    "colab_type": "code",
    "id": "h2vtGE-6QkuK"
   },
   "outputs": [
    {
     "name": "stderr",
     "output_type": "stream",
     "text": [
      "Traceback (most recent call last):\n",
      "  File \"c:\\program files (x86)\\microsoft visual studio\\shared\\anaconda3_64\\lib\\runpy.py\", line 193, in _run_module_as_main\n",
      "    \"__main__\", mod_spec)\n",
      "  File \"c:\\program files (x86)\\microsoft visual studio\\shared\\anaconda3_64\\lib\\runpy.py\", line 85, in _run_code\n",
      "    exec(code, run_globals)\n",
      "  File \"C:\\Program Files (x86)\\Microsoft Visual Studio\\Shared\\Anaconda3_64\\Scripts\\pip.exe\\__main__.py\", line 5, in <module>\n",
      "  File \"c:\\program files (x86)\\microsoft visual studio\\shared\\anaconda3_64\\lib\\site-packages\\pip\\__init__.py\", line 1, in <module>\n",
      "    from pip._internal.utils.typing import MYPY_CHECK_RUNNING\n",
      "  File \"c:\\program files (x86)\\microsoft visual studio\\shared\\anaconda3_64\\lib\\site-packages\\pip\\_internal\\__init__.py\", line 2, in <module>\n",
      "    import pip._internal.utils.inject_securetransport  # noqa\n",
      "ModuleNotFoundError: No module named 'pip._internal.utils.inject_securetransport'\n"
     ]
    }
   ],
   "source": [
    "!pip install pandas numpy tqdm==4.43.0 bayesian-optimization lightgbm"
   ]
  },
  {
   "cell_type": "markdown",
   "metadata": {
    "colab_type": "text",
    "id": "EF-j7I4UodL2"
   },
   "source": [
    "## 라이브러리 임포트"
   ]
  },
  {
   "cell_type": "code",
   "execution_count": 4,
   "metadata": {
    "colab": {},
    "colab_type": "code",
    "id": "fqYwCrpcn0lG"
   },
   "outputs": [
    {
     "name": "stdout",
     "output_type": "stream",
     "text": [
      "\n",
      "INSTALLED VERSIONS\n",
      "------------------\n",
      "commit           : None\n",
      "python           : 3.6.5.final.0\n",
      "python-bits      : 64\n",
      "OS               : Windows\n",
      "OS-release       : 10\n",
      "machine          : AMD64\n",
      "processor        : Intel64 Family 6 Model 158 Stepping 9, GenuineIntel\n",
      "byteorder        : little\n",
      "LC_ALL           : None\n",
      "LANG             : None\n",
      "LOCALE           : None.None\n",
      "\n",
      "pandas           : 1.0.3\n",
      "numpy            : 1.15.4\n",
      "pytz             : 2018.4\n",
      "dateutil         : 2.7.3\n",
      "pip              : None\n",
      "setuptools       : 39.1.0\n",
      "Cython           : 0.28.2\n",
      "pytest           : 3.5.1\n",
      "hypothesis       : None\n",
      "sphinx           : 1.7.4\n",
      "blosc            : None\n",
      "feather          : None\n",
      "xlsxwriter       : 1.0.4\n",
      "lxml.etree       : 4.2.1\n",
      "html5lib         : 1.0.1\n",
      "pymysql          : None\n",
      "psycopg2         : None\n",
      "jinja2           : 2.10\n",
      "IPython          : 6.4.0\n",
      "pandas_datareader: None\n",
      "bs4              : 4.6.0\n",
      "bottleneck       : 1.2.1\n",
      "fastparquet      : None\n",
      "gcsfs            : None\n",
      "lxml.etree       : 4.2.1\n",
      "matplotlib       : 2.2.2\n",
      "numexpr          : 2.6.5\n",
      "odfpy            : None\n",
      "openpyxl         : 2.5.3\n",
      "pandas_gbq       : None\n",
      "pyarrow          : None\n",
      "pytables         : None\n",
      "pytest           : 3.5.1\n",
      "pyxlsb           : None\n",
      "s3fs             : None\n",
      "scipy            : 1.1.0\n",
      "sqlalchemy       : 1.2.7\n",
      "tables           : 3.4.3\n",
      "tabulate         : None\n",
      "xarray           : None\n",
      "xlrd             : 1.1.0\n",
      "xlwt             : 1.3.0\n",
      "xlsxwriter       : 1.0.4\n",
      "numba            : 0.38.0\n",
      "None\n"
     ]
    }
   ],
   "source": [
    "import sys\n",
    "import pandas as pd                         # 데이터 분석 라이브러리\n",
    "# import numpy as np                          # 계산 라이브러리\n",
    "# from tqdm.auto import tqdm                  # 진행바\n",
    "# from sklearn.metrics import roc_auc_score   # AUC 스코어 계산\n",
    "# from sklearn.model_selection import KFold   # K-fold CV    \n",
    "# from bayes_opt import BayesianOptimization  # 베이지안 최적화 라이브러리  \n",
    "# from functools import partial               # 함수 변수 고정\n",
    "# import lightgbm as lgb                      # LightGBM 라이브러리\n",
    "# import multiprocessing\n",
    "# import gc\n",
    "import importlib\n",
    "import warnings                             \n",
    "warnings.filterwarnings(\"ignore\")           # 경고 문구 미표시\n",
    "# tqdm.pandas()\n",
    "print(pd.show_versions())"
   ]
  },
  {
   "cell_type": "code",
   "execution_count": 5,
   "metadata": {
    "colab": {},
    "colab_type": "code",
    "id": "247h3qsBrc37"
   },
   "outputs": [],
   "source": [
    "def reload_module(module):\n",
    "    for _ in range(2):\n",
    "        for k, v in sys.modules.items():\n",
    "            if k.startswith(module.__name__):\n",
    "                importlib.reload(v)"
   ]
  },
  {
   "cell_type": "markdown",
   "metadata": {
    "colab_type": "text",
    "id": "A9SDk87KLlhX"
   },
   "source": [
    "## 상수 정의"
   ]
  },
  {
   "cell_type": "code",
   "execution_count": 6,
   "metadata": {
    "colab": {},
    "colab_type": "code",
    "id": "NdTp5JCFLh3X"
   },
   "outputs": [],
   "source": [
    "DATA_DIR = 'data'"
   ]
  },
  {
   "cell_type": "markdown",
   "metadata": {
    "colab_type": "text",
    "id": "T_ifi5sWoa_D"
   },
   "source": [
    "## Colab 설정"
   ]
  },
  {
   "cell_type": "code",
   "execution_count": 7,
   "metadata": {
    "colab": {},
    "colab_type": "code",
    "id": "DwDSqfnhPEak"
   },
   "outputs": [],
   "source": [
    "if IN_COLAB:\n",
    "    import getpass\n",
    "    import urllib.parse\n",
    "\n",
    "    github_repo = \"github.com/Heo-H/dacon\"\n",
    "    branch_name = \"dacon-202003\"\n",
    "\n",
    "    print(\"Please enter your Github account.\")\n",
    "    github_username = urllib.parse.quote(input(\"username:\"))\n",
    "    github_password = urllib.parse.quote(getpass.getpass(\"password:\"))\n",
    "    github_url = f\"https://{github_username}:{github_password}@{github_repo}\"\n",
    "    github_sealed_url = f\"https://{github_username}:****@{github_repo}\"\n",
    "\n",
    "    output = !git clone -b $branch_name --single-branch $github_url tmp_dacon_202003 && mv tmp_dacon_202003/* . && rm -r tmp_dacon_202003\n",
    "    for line in output:\n",
    "        print(line.replace(github_url, github_sealed_url))\n",
    "\n",
    "    del github_repo\n",
    "    del github_username\n",
    "    del github_password\n",
    "    del github_url\n",
    "    del github_sealed_url\n",
    "    del branch_name"
   ]
  },
  {
   "cell_type": "code",
   "execution_count": 8,
   "metadata": {
    "colab": {},
    "colab_type": "code",
    "id": "-DUVgdgBMrzD"
   },
   "outputs": [],
   "source": [
    "if IN_COLAB:\n",
    "    DRIVE_DIR = '/content/drive'\n",
    "    from google.colab import drive\n",
    "    drive.mount(DRIVE_DIR)\n",
    "\n",
    "    import os\n",
    "    os.symlink(f'{DRIVE_DIR}/My Drive/data', DATA_DIR)"
   ]
  },
  {
   "cell_type": "markdown",
   "metadata": {
    "colab_type": "text",
    "id": "Xfisi3TQn1aT"
   },
   "source": [
    "# 학습 데이터"
   ]
  },
  {
   "cell_type": "code",
   "execution_count": 9,
   "metadata": {
    "colab": {},
    "colab_type": "code",
    "id": "QwthPpnDyM2a"
   },
   "outputs": [],
   "source": [
    "train = pd.read_csv('data/train.csv')"
   ]
  },
  {
   "cell_type": "markdown",
   "metadata": {
    "colab_type": "text",
    "id": "vsZDP-yhJPuE"
   },
   "source": [
    "# 특징 추출"
   ]
  },
  {
   "cell_type": "code",
   "execution_count": 18,
   "metadata": {
    "colab": {},
    "colab_type": "code",
    "id": "i5BSAkAzj1-7"
   },
   "outputs": [
    {
     "data": {
      "application/vnd.jupyter.widget-view+json": {
       "model_id": "ca35e99e91a6473781a7f98fd72ceefc",
       "version_major": 2,
       "version_minor": 0
      },
      "text/plain": [
       "HBox(children=(FloatProgress(value=0.0, max=16770877.0), HTML(value='')))"
      ]
     },
     "metadata": {},
     "output_type": "display_data"
    },
    {
     "name": "stdout",
     "output_type": "stream",
     "text": [
      "\n"
     ]
    },
    {
     "data": {
      "application/vnd.jupyter.widget-view+json": {
       "model_id": "cb81e0dec5764fcea99b14816e1c18e9",
       "version_major": 2,
       "version_minor": 0
      },
      "text/plain": [
       "HBox(children=(FloatProgress(value=0.0, max=16683972.0), HTML(value='')))"
      ]
     },
     "metadata": {},
     "output_type": "display_data"
    },
    {
     "name": "stdout",
     "output_type": "stream",
     "text": [
      "\n"
     ]
    },
    {
     "data": {
      "application/vnd.jupyter.widget-view+json": {
       "model_id": "7ec76048b6b64cefb3ab9aa079a5eca9",
       "version_major": 2,
       "version_minor": 0
      },
      "text/plain": [
       "HBox(children=(FloatProgress(value=0.0, max=16786274.0), HTML(value='')))"
      ]
     },
     "metadata": {},
     "output_type": "display_data"
    },
    {
     "name": "stdout",
     "output_type": "stream",
     "text": [
      "\n"
     ]
    },
    {
     "data": {
      "application/vnd.jupyter.widget-view+json": {
       "model_id": "be572fa0baa74b91a39a8cb9f1c3f99e",
       "version_major": 2,
       "version_minor": 0
      },
      "text/plain": [
       "HBox(children=(FloatProgress(value=0.0, max=16850653.0), HTML(value='')))"
      ]
     },
     "metadata": {},
     "output_type": "display_data"
    },
    {
     "name": "stdout",
     "output_type": "stream",
     "text": [
      "\n"
     ]
    }
   ],
   "source": [
    "import sclearn.feature_engineering\n",
    "reload_module(sclearn.feature_engineering)\n",
    "\n",
    "# x_train = sclearn.feature_engineering.prepare_x_data(train[:1000000])\n",
    "# y_train = sclearn.feature_engineering.prepare_y_data(train[:1000000])\n",
    "\n",
    "# x_train = sclearn.feature_engineering.prepare_x_data(train)\n",
    "x_train = sclearn.feature_engineering.chunkize_dataframe(sclearn.feature_engineering.prepare_x_data, train, n_splits=4)\n",
    "y_train = sclearn.feature_engineering.prepare_y_data(train)"
   ]
  },
  {
   "cell_type": "code",
   "execution_count": 19,
   "metadata": {
    "colab": {},
    "colab_type": "code",
    "id": "c7sFC0FXpPMU"
   },
   "outputs": [
    {
     "data": {
      "text/html": [
       "<div>\n",
       "<style scoped>\n",
       "    .dataframe tbody tr th:only-of-type {\n",
       "        vertical-align: middle;\n",
       "    }\n",
       "\n",
       "    .dataframe tbody tr th {\n",
       "        vertical-align: top;\n",
       "    }\n",
       "\n",
       "    .dataframe thead th {\n",
       "        text-align: right;\n",
       "    }\n",
       "</style>\n",
       "<table border=\"1\" class=\"dataframe\">\n",
       "  <thead>\n",
       "    <tr style=\"text-align: right;\">\n",
       "      <th></th>\n",
       "      <th>time</th>\n",
       "      <th>p0_species</th>\n",
       "      <th>p1_species</th>\n",
       "      <th>p0_event_Ability</th>\n",
       "      <th>p0_event_AddToControlGroup</th>\n",
       "      <th>p0_event_Camera</th>\n",
       "      <th>p0_event_ControlGroup</th>\n",
       "      <th>p0_event_GetControlGroup</th>\n",
       "      <th>p0_event_Right Click</th>\n",
       "      <th>p0_event_Selection</th>\n",
       "      <th>...</th>\n",
       "      <th>delta_first_time_(16E4) - BuildEvolutionChamber</th>\n",
       "      <th>delta_first_time_(1401) - BuildSiegeTank</th>\n",
       "      <th>delta_first_time_(4AE0) - BuildOracleStasisTrap</th>\n",
       "      <th>delta_first_time_(1821) - MorphZergling</th>\n",
       "      <th>delta_first_time_(1584) - TrainDarkTemplar</th>\n",
       "      <th>delta_first_time_(1540) - BuildNexus</th>\n",
       "      <th>delta_first_time_(15A2) - TrainCarrier</th>\n",
       "      <th>delta_first_time_(1406) - BuildBattleHellion</th>\n",
       "      <th>delta_first_time_(5640) - MorphToTransportOverlord</th>\n",
       "      <th>Cluster</th>\n",
       "    </tr>\n",
       "  </thead>\n",
       "  <tbody>\n",
       "    <tr>\n",
       "      <th>0</th>\n",
       "      <td>444.0</td>\n",
       "      <td>0</td>\n",
       "      <td>0</td>\n",
       "      <td>34.0</td>\n",
       "      <td>2.0</td>\n",
       "      <td>444.0</td>\n",
       "      <td>0.0</td>\n",
       "      <td>24.0</td>\n",
       "      <td>35.0</td>\n",
       "      <td>50.0</td>\n",
       "      <td>...</td>\n",
       "      <td>0.0</td>\n",
       "      <td>99713.0</td>\n",
       "      <td>0.0</td>\n",
       "      <td>0.0</td>\n",
       "      <td>0.0</td>\n",
       "      <td>0.0</td>\n",
       "      <td>0.0</td>\n",
       "      <td>0.0</td>\n",
       "      <td>0.0</td>\n",
       "      <td>13</td>\n",
       "    </tr>\n",
       "    <tr>\n",
       "      <th>1</th>\n",
       "      <td>599.0</td>\n",
       "      <td>1</td>\n",
       "      <td>0</td>\n",
       "      <td>77.0</td>\n",
       "      <td>1.0</td>\n",
       "      <td>627.0</td>\n",
       "      <td>0.0</td>\n",
       "      <td>162.0</td>\n",
       "      <td>160.0</td>\n",
       "      <td>186.0</td>\n",
       "      <td>...</td>\n",
       "      <td>0.0</td>\n",
       "      <td>99728.0</td>\n",
       "      <td>0.0</td>\n",
       "      <td>0.0</td>\n",
       "      <td>0.0</td>\n",
       "      <td>-99543.0</td>\n",
       "      <td>0.0</td>\n",
       "      <td>0.0</td>\n",
       "      <td>0.0</td>\n",
       "      <td>3</td>\n",
       "    </tr>\n",
       "    <tr>\n",
       "      <th>2</th>\n",
       "      <td>599.0</td>\n",
       "      <td>1</td>\n",
       "      <td>2</td>\n",
       "      <td>69.0</td>\n",
       "      <td>6.0</td>\n",
       "      <td>413.0</td>\n",
       "      <td>0.0</td>\n",
       "      <td>99.0</td>\n",
       "      <td>160.0</td>\n",
       "      <td>90.0</td>\n",
       "      <td>...</td>\n",
       "      <td>99689.0</td>\n",
       "      <td>0.0</td>\n",
       "      <td>-99599.0</td>\n",
       "      <td>99819.0</td>\n",
       "      <td>0.0</td>\n",
       "      <td>-99594.0</td>\n",
       "      <td>0.0</td>\n",
       "      <td>0.0</td>\n",
       "      <td>0.0</td>\n",
       "      <td>41</td>\n",
       "    </tr>\n",
       "    <tr>\n",
       "      <th>3</th>\n",
       "      <td>599.0</td>\n",
       "      <td>0</td>\n",
       "      <td>1</td>\n",
       "      <td>82.0</td>\n",
       "      <td>0.0</td>\n",
       "      <td>713.0</td>\n",
       "      <td>0.0</td>\n",
       "      <td>132.0</td>\n",
       "      <td>276.0</td>\n",
       "      <td>180.0</td>\n",
       "      <td>...</td>\n",
       "      <td>0.0</td>\n",
       "      <td>-99427.0</td>\n",
       "      <td>0.0</td>\n",
       "      <td>0.0</td>\n",
       "      <td>0.0</td>\n",
       "      <td>99433.0</td>\n",
       "      <td>0.0</td>\n",
       "      <td>0.0</td>\n",
       "      <td>0.0</td>\n",
       "      <td>35</td>\n",
       "    </tr>\n",
       "    <tr>\n",
       "      <th>4</th>\n",
       "      <td>343.0</td>\n",
       "      <td>0</td>\n",
       "      <td>2</td>\n",
       "      <td>57.0</td>\n",
       "      <td>1.0</td>\n",
       "      <td>430.0</td>\n",
       "      <td>0.0</td>\n",
       "      <td>224.0</td>\n",
       "      <td>177.0</td>\n",
       "      <td>67.0</td>\n",
       "      <td>...</td>\n",
       "      <td>0.0</td>\n",
       "      <td>0.0</td>\n",
       "      <td>0.0</td>\n",
       "      <td>99784.0</td>\n",
       "      <td>0.0</td>\n",
       "      <td>0.0</td>\n",
       "      <td>0.0</td>\n",
       "      <td>0.0</td>\n",
       "      <td>0.0</td>\n",
       "      <td>2</td>\n",
       "    </tr>\n",
       "  </tbody>\n",
       "</table>\n",
       "<p>5 rows × 1524 columns</p>\n",
       "</div>"
      ],
      "text/plain": [
       "    time p0_species p1_species  p0_event_Ability  p0_event_AddToControlGroup  \\\n",
       "0  444.0          0          0              34.0                         2.0   \n",
       "1  599.0          1          0              77.0                         1.0   \n",
       "2  599.0          1          2              69.0                         6.0   \n",
       "3  599.0          0          1              82.0                         0.0   \n",
       "4  343.0          0          2              57.0                         1.0   \n",
       "\n",
       "   p0_event_Camera  p0_event_ControlGroup  p0_event_GetControlGroup  \\\n",
       "0            444.0                    0.0                      24.0   \n",
       "1            627.0                    0.0                     162.0   \n",
       "2            413.0                    0.0                      99.0   \n",
       "3            713.0                    0.0                     132.0   \n",
       "4            430.0                    0.0                     224.0   \n",
       "\n",
       "   p0_event_Right Click  p0_event_Selection  ...  \\\n",
       "0                  35.0                50.0  ...   \n",
       "1                 160.0               186.0  ...   \n",
       "2                 160.0                90.0  ...   \n",
       "3                 276.0               180.0  ...   \n",
       "4                 177.0                67.0  ...   \n",
       "\n",
       "   delta_first_time_(16E4) - BuildEvolutionChamber  \\\n",
       "0                                              0.0   \n",
       "1                                              0.0   \n",
       "2                                          99689.0   \n",
       "3                                              0.0   \n",
       "4                                              0.0   \n",
       "\n",
       "   delta_first_time_(1401) - BuildSiegeTank  \\\n",
       "0                                   99713.0   \n",
       "1                                   99728.0   \n",
       "2                                       0.0   \n",
       "3                                  -99427.0   \n",
       "4                                       0.0   \n",
       "\n",
       "   delta_first_time_(4AE0) - BuildOracleStasisTrap  \\\n",
       "0                                              0.0   \n",
       "1                                              0.0   \n",
       "2                                         -99599.0   \n",
       "3                                              0.0   \n",
       "4                                              0.0   \n",
       "\n",
       "   delta_first_time_(1821) - MorphZergling  \\\n",
       "0                                      0.0   \n",
       "1                                      0.0   \n",
       "2                                  99819.0   \n",
       "3                                      0.0   \n",
       "4                                  99784.0   \n",
       "\n",
       "   delta_first_time_(1584) - TrainDarkTemplar  \\\n",
       "0                                         0.0   \n",
       "1                                         0.0   \n",
       "2                                         0.0   \n",
       "3                                         0.0   \n",
       "4                                         0.0   \n",
       "\n",
       "   delta_first_time_(1540) - BuildNexus  \\\n",
       "0                                   0.0   \n",
       "1                              -99543.0   \n",
       "2                              -99594.0   \n",
       "3                               99433.0   \n",
       "4                                   0.0   \n",
       "\n",
       "   delta_first_time_(15A2) - TrainCarrier  \\\n",
       "0                                     0.0   \n",
       "1                                     0.0   \n",
       "2                                     0.0   \n",
       "3                                     0.0   \n",
       "4                                     0.0   \n",
       "\n",
       "   delta_first_time_(1406) - BuildBattleHellion  \\\n",
       "0                                           0.0   \n",
       "1                                           0.0   \n",
       "2                                           0.0   \n",
       "3                                           0.0   \n",
       "4                                           0.0   \n",
       "\n",
       "   delta_first_time_(5640) - MorphToTransportOverlord  Cluster  \n",
       "0                                                0.0        13  \n",
       "1                                                0.0         3  \n",
       "2                                                0.0        41  \n",
       "3                                                0.0        35  \n",
       "4                                                0.0         2  \n",
       "\n",
       "[5 rows x 1524 columns]"
      ]
     },
     "execution_count": 19,
     "metadata": {},
     "output_type": "execute_result"
    }
   ],
   "source": [
    "x_train.head()"
   ]
  },
  {
   "cell_type": "markdown",
   "metadata": {
    "colab_type": "text",
    "id": "eYo8bpzpJPuL"
   },
   "source": [
    "# 모델 구축"
   ]
  },
  {
   "cell_type": "code",
   "execution_count": 20,
   "metadata": {
    "colab": {},
    "colab_type": "code",
    "id": "dcUNb8_-o05x"
   },
   "outputs": [
    {
     "name": "stdout",
     "output_type": "stream",
     "text": [
      "17611\n",
      "|   iter    |  target   | baggin... | colsam... | featur... | learni... | n_esti... | num_le... | reg_alpha | reg_la... | subsample |\n",
      "-------------------------------------------------------------------------------------------------------------------------------------\n",
      "| \u001b[0m 1       \u001b[0m | \u001b[0m 0.7074  \u001b[0m | \u001b[0m 0.877   \u001b[0m | \u001b[0m 0.7754  \u001b[0m | \u001b[0m 0.9242  \u001b[0m | \u001b[0m 0.05462 \u001b[0m | \u001b[0m 224.0   \u001b[0m | \u001b[0m 86.66   \u001b[0m | \u001b[0m 4.771   \u001b[0m | \u001b[0m 49.27   \u001b[0m | \u001b[0m 0.4102  \u001b[0m |\n",
      "| \u001b[95m 2       \u001b[0m | \u001b[95m 0.7093  \u001b[0m | \u001b[95m 0.6251  \u001b[0m | \u001b[95m 0.4365  \u001b[0m | \u001b[95m 0.5614  \u001b[0m | \u001b[95m 0.06011 \u001b[0m | \u001b[95m 599.7   \u001b[0m | \u001b[95m 208.6   \u001b[0m | \u001b[95m 1.616   \u001b[0m | \u001b[95m 12.95   \u001b[0m | \u001b[95m 0.02409 \u001b[0m |\n",
      "| \u001b[0m 3       \u001b[0m | \u001b[0m 0.6905  \u001b[0m | \u001b[0m 0.5158  \u001b[0m | \u001b[0m 0.9339  \u001b[0m | \u001b[0m 0.7891  \u001b[0m | \u001b[0m 0.02477 \u001b[0m | \u001b[0m 144.8   \u001b[0m | \u001b[0m 87.57   \u001b[0m | \u001b[0m 6.959   \u001b[0m | \u001b[0m 41.73   \u001b[0m | \u001b[0m 0.4425  \u001b[0m |\n",
      "| \u001b[0m 4       \u001b[0m | \u001b[0m 0.7044  \u001b[0m | \u001b[0m 0.5011  \u001b[0m | \u001b[0m 0.2721  \u001b[0m | \u001b[0m 0.6267  \u001b[0m | \u001b[0m 0.08175 \u001b[0m | \u001b[0m 836.4   \u001b[0m | \u001b[0m 189.2   \u001b[0m | \u001b[0m 5.748   \u001b[0m | \u001b[0m 0.09107 \u001b[0m | \u001b[0m 0.4427  \u001b[0m |\n",
      "| \u001b[0m 5       \u001b[0m | \u001b[0m 0.7071  \u001b[0m | \u001b[0m 0.8933  \u001b[0m | \u001b[0m 0.9798  \u001b[0m | \u001b[0m 0.5972  \u001b[0m | \u001b[0m 0.02619 \u001b[0m | \u001b[0m 465.7   \u001b[0m | \u001b[0m 46.88   \u001b[0m | \u001b[0m 6.259   \u001b[0m | \u001b[0m 46.57   \u001b[0m | \u001b[0m 0.3395  \u001b[0m |\n",
      "| \u001b[0m 6       \u001b[0m | \u001b[0m 0.7064  \u001b[0m | \u001b[0m 0.703   \u001b[0m | \u001b[0m 0.7749  \u001b[0m | \u001b[0m 0.6766  \u001b[0m | \u001b[0m 0.09372 \u001b[0m | \u001b[0m 1.02e+03\u001b[0m | \u001b[0m 247.5   \u001b[0m | \u001b[0m 8.41    \u001b[0m | \u001b[0m 47.57   \u001b[0m | \u001b[0m 0.1717  \u001b[0m |\n",
      "| \u001b[0m 7       \u001b[0m | \u001b[0m 0.7089  \u001b[0m | \u001b[0m 0.6014  \u001b[0m | \u001b[0m 0.2818  \u001b[0m | \u001b[0m 0.8227  \u001b[0m | \u001b[0m 0.04844 \u001b[0m | \u001b[0m 1.02e+03\u001b[0m | \u001b[0m 21.67   \u001b[0m | \u001b[0m 3.144   \u001b[0m | \u001b[0m 35.98   \u001b[0m | \u001b[0m 0.0829  \u001b[0m |\n",
      "| \u001b[0m 8       \u001b[0m | \u001b[0m 0.7048  \u001b[0m | \u001b[0m 0.8     \u001b[0m | \u001b[0m 0.7789  \u001b[0m | \u001b[0m 0.956   \u001b[0m | \u001b[0m 0.09815 \u001b[0m | \u001b[0m 230.8   \u001b[0m | \u001b[0m 254.7   \u001b[0m | \u001b[0m 4.959   \u001b[0m | \u001b[0m 49.53   \u001b[0m | \u001b[0m 0.2672  \u001b[0m |\n",
      "| \u001b[0m 9       \u001b[0m | \u001b[0m 0.6734  \u001b[0m | \u001b[0m 0.7634  \u001b[0m | \u001b[0m 0.03264 \u001b[0m | \u001b[0m 0.7518  \u001b[0m | \u001b[0m 0.000898\u001b[0m | \u001b[0m 353.7   \u001b[0m | \u001b[0m 129.2   \u001b[0m | \u001b[0m 1.264   \u001b[0m | \u001b[0m 0.4256  \u001b[0m | \u001b[0m 0.2688  \u001b[0m |\n",
      "| \u001b[0m 10      \u001b[0m | \u001b[0m 0.7076  \u001b[0m | \u001b[0m 0.6064  \u001b[0m | \u001b[0m 0.4635  \u001b[0m | \u001b[0m 0.6285  \u001b[0m | \u001b[0m 0.09694 \u001b[0m | \u001b[0m 766.5   \u001b[0m | \u001b[0m 242.7   \u001b[0m | \u001b[0m 1.32    \u001b[0m | \u001b[0m 48.4    \u001b[0m | \u001b[0m 0.4327  \u001b[0m |\n",
      "=====================================================================================================================================\n",
      "8271\n",
      "|   iter    |  target   | baggin... | colsam... | featur... | learni... | n_esti... | num_le... | reg_alpha | reg_la... | subsample |\n",
      "-------------------------------------------------------------------------------------------------------------------------------------\n",
      "| \u001b[0m 1       \u001b[0m | \u001b[0m 0.7063  \u001b[0m | \u001b[0m 0.8283  \u001b[0m | \u001b[0m 0.268   \u001b[0m | \u001b[0m 0.9621  \u001b[0m | \u001b[0m 0.08482 \u001b[0m | \u001b[0m 482.3   \u001b[0m | \u001b[0m 48.43   \u001b[0m | \u001b[0m 6.363   \u001b[0m | \u001b[0m 33.15   \u001b[0m | \u001b[0m 0.3661  \u001b[0m |\n",
      "| \u001b[0m 2       \u001b[0m | \u001b[0m 0.6994  \u001b[0m | \u001b[0m 0.6452  \u001b[0m | \u001b[0m 0.8346  \u001b[0m | \u001b[0m 0.9063  \u001b[0m | \u001b[0m 0.01517 \u001b[0m | \u001b[0m 269.4   \u001b[0m | \u001b[0m 197.9   \u001b[0m | \u001b[0m 3.744   \u001b[0m | \u001b[0m 36.03   \u001b[0m | \u001b[0m 0.2185  \u001b[0m |\n",
      "| \u001b[95m 3       \u001b[0m | \u001b[95m 0.7065  \u001b[0m | \u001b[95m 0.8067  \u001b[0m | \u001b[95m 0.9761  \u001b[0m | \u001b[95m 0.6912  \u001b[0m | \u001b[95m 0.07577 \u001b[0m | \u001b[95m 875.4   \u001b[0m | \u001b[95m 222.2   \u001b[0m | \u001b[95m 2.092   \u001b[0m | \u001b[95m 18.58   \u001b[0m | \u001b[95m 0.2151  \u001b[0m |\n",
      "| \u001b[95m 4       \u001b[0m | \u001b[95m 0.7085  \u001b[0m | \u001b[95m 0.6786  \u001b[0m | \u001b[95m 0.8562  \u001b[0m | \u001b[95m 0.5072  \u001b[0m | \u001b[95m 0.07628 \u001b[0m | \u001b[95m 198.1   \u001b[0m | \u001b[95m 118.7   \u001b[0m | \u001b[95m 8.662   \u001b[0m | \u001b[95m 5.109   \u001b[0m | \u001b[95m 0.3628  \u001b[0m |\n",
      "| \u001b[95m 5       \u001b[0m | \u001b[95m 0.7108  \u001b[0m | \u001b[95m 0.8183  \u001b[0m | \u001b[95m 0.6099  \u001b[0m | \u001b[95m 0.8178  \u001b[0m | \u001b[95m 0.03783 \u001b[0m | \u001b[95m 831.1   \u001b[0m | \u001b[95m 87.85   \u001b[0m | \u001b[95m 1.162   \u001b[0m | \u001b[95m 46.97   \u001b[0m | \u001b[95m 0.3456  \u001b[0m |\n",
      "| \u001b[0m 6       \u001b[0m | \u001b[0m 0.7049  \u001b[0m | \u001b[0m 0.6672  \u001b[0m | \u001b[0m 0.2746  \u001b[0m | \u001b[0m 0.9939  \u001b[0m | \u001b[0m 0.05507 \u001b[0m | \u001b[0m 1.021e+0\u001b[0m | \u001b[0m 28.46   \u001b[0m | \u001b[0m 1.788   \u001b[0m | \u001b[0m 3.115   \u001b[0m | \u001b[0m 0.03859 \u001b[0m |\n",
      "| \u001b[0m 7       \u001b[0m | \u001b[0m 0.6549  \u001b[0m | \u001b[0m 0.6903  \u001b[0m | \u001b[0m 0.9888  \u001b[0m | \u001b[0m 0.6706  \u001b[0m | \u001b[0m 0.05057 \u001b[0m | \u001b[0m 23.63   \u001b[0m | \u001b[0m 17.79   \u001b[0m | \u001b[0m 6.37    \u001b[0m | \u001b[0m 42.92   \u001b[0m | \u001b[0m 0.4266  \u001b[0m |\n",
      "| \u001b[0m 8       \u001b[0m | \u001b[0m 0.6814  \u001b[0m | \u001b[0m 0.8562  \u001b[0m | \u001b[0m 0.5992  \u001b[0m | \u001b[0m 0.7877  \u001b[0m | \u001b[0m 0.05128 \u001b[0m | \u001b[0m 34.64   \u001b[0m | \u001b[0m 247.4   \u001b[0m | \u001b[0m 8.319   \u001b[0m | \u001b[0m 0.5256  \u001b[0m | \u001b[0m 0.2185  \u001b[0m |\n",
      "| \u001b[0m 9       \u001b[0m | \u001b[0m 0.672   \u001b[0m | \u001b[0m 0.9083  \u001b[0m | \u001b[0m 0.4454  \u001b[0m | \u001b[0m 0.9085  \u001b[0m | \u001b[0m 0.00197 \u001b[0m | \u001b[0m 856.3   \u001b[0m | \u001b[0m 54.97   \u001b[0m | \u001b[0m 1.87    \u001b[0m | \u001b[0m 43.02   \u001b[0m | \u001b[0m 0.03477 \u001b[0m |\n",
      "| \u001b[0m 10      \u001b[0m | \u001b[0m 0.7     \u001b[0m | \u001b[0m 1.0     \u001b[0m | \u001b[0m 0.9275  \u001b[0m | \u001b[0m 1.0     \u001b[0m | \u001b[0m 0.1     \u001b[0m | \u001b[0m 567.9   \u001b[0m | \u001b[0m 256.0   \u001b[0m | \u001b[0m 9.901   \u001b[0m | \u001b[0m 0.0     \u001b[0m | \u001b[0m 0.5     \u001b[0m |\n",
      "=====================================================================================================================================\n",
      "33432\n",
      "|   iter    |  target   | baggin... | colsam... | featur... | learni... | n_esti... | num_le... | reg_alpha | reg_la... | subsample |\n",
      "-------------------------------------------------------------------------------------------------------------------------------------\n",
      "| \u001b[0m 1       \u001b[0m | \u001b[0m 0.6932  \u001b[0m | \u001b[0m 0.5483  \u001b[0m | \u001b[0m 0.8321  \u001b[0m | \u001b[0m 0.6317  \u001b[0m | \u001b[0m 0.0574  \u001b[0m | \u001b[0m 120.2   \u001b[0m | \u001b[0m 24.38   \u001b[0m | \u001b[0m 8.243   \u001b[0m | \u001b[0m 17.25   \u001b[0m | \u001b[0m 0.02141 \u001b[0m |\n",
      "| \u001b[0m 2       \u001b[0m | \u001b[0m 0.6748  \u001b[0m | \u001b[0m 0.983   \u001b[0m | \u001b[0m 0.232   \u001b[0m | \u001b[0m 0.711   \u001b[0m | \u001b[0m 0.002742\u001b[0m | \u001b[0m 260.7   \u001b[0m | \u001b[0m 129.6   \u001b[0m | \u001b[0m 6.188   \u001b[0m | \u001b[0m 0.01301 \u001b[0m | \u001b[0m 0.09003 \u001b[0m |\n",
      "| \u001b[0m 3       \u001b[0m | \u001b[0m 0.6737  \u001b[0m | \u001b[0m 0.7176  \u001b[0m | \u001b[0m 0.03098 \u001b[0m | \u001b[0m 0.9069  \u001b[0m | \u001b[0m 0.09711 \u001b[0m | \u001b[0m 16.16   \u001b[0m | \u001b[0m 66.28   \u001b[0m | \u001b[0m 0.6782  \u001b[0m | \u001b[0m 11.94   \u001b[0m | \u001b[0m 0.396   \u001b[0m |\n",
      "| \u001b[95m 4       \u001b[0m | \u001b[95m 0.7077  \u001b[0m | \u001b[95m 0.7862  \u001b[0m | \u001b[95m 0.7447  \u001b[0m | \u001b[95m 0.5262  \u001b[0m | \u001b[95m 0.009351\u001b[0m | \u001b[95m 957.2   \u001b[0m | \u001b[95m 62.38   \u001b[0m | \u001b[95m 5.566   \u001b[0m | \u001b[95m 30.41   \u001b[0m | \u001b[95m 0.3839  \u001b[0m |\n",
      "| \u001b[0m 5       \u001b[0m | \u001b[0m 0.7061  \u001b[0m | \u001b[0m 0.9242  \u001b[0m | \u001b[0m 0.9948  \u001b[0m | \u001b[0m 0.8613  \u001b[0m | \u001b[0m 0.07168 \u001b[0m | \u001b[0m 851.9   \u001b[0m | \u001b[0m 143.4   \u001b[0m | \u001b[0m 3.286   \u001b[0m | \u001b[0m 27.09   \u001b[0m | \u001b[0m 0.4905  \u001b[0m |\n",
      "| \u001b[95m 6       \u001b[0m | \u001b[95m 0.7079  \u001b[0m | \u001b[95m 0.5049  \u001b[0m | \u001b[95m 0.9901  \u001b[0m | \u001b[95m 0.5185  \u001b[0m | \u001b[95m 0.08128 \u001b[0m | \u001b[95m 533.1   \u001b[0m | \u001b[95m 18.64   \u001b[0m | \u001b[95m 1.36    \u001b[0m | \u001b[95m 49.48   \u001b[0m | \u001b[95m 0.2073  \u001b[0m |\n",
      "| \u001b[95m 7       \u001b[0m | \u001b[95m 0.7128  \u001b[0m | \u001b[95m 0.8204  \u001b[0m | \u001b[95m 0.8854  \u001b[0m | \u001b[95m 0.6109  \u001b[0m | \u001b[95m 0.01854 \u001b[0m | \u001b[95m 1.024e+0\u001b[0m | \u001b[95m 247.2   \u001b[0m | \u001b[95m 9.169   \u001b[0m | \u001b[95m 43.83   \u001b[0m | \u001b[95m 0.1942  \u001b[0m |\n",
      "| \u001b[0m 8       \u001b[0m | \u001b[0m 0.711   \u001b[0m | \u001b[0m 0.8903  \u001b[0m | \u001b[0m 0.4426  \u001b[0m | \u001b[0m 0.7832  \u001b[0m | \u001b[0m 0.008134\u001b[0m | \u001b[0m 1.021e+0\u001b[0m | \u001b[0m 247.6   \u001b[0m | \u001b[0m 5.845   \u001b[0m | \u001b[0m 2.147   \u001b[0m | \u001b[0m 0.1064  \u001b[0m |\n",
      "| \u001b[0m 9       \u001b[0m | \u001b[0m 0.7109  \u001b[0m | \u001b[0m 0.8889  \u001b[0m | \u001b[0m 0.8039  \u001b[0m | \u001b[0m 0.648   \u001b[0m | \u001b[0m 0.03023 \u001b[0m | \u001b[0m 1.009e+0\u001b[0m | \u001b[0m 242.4   \u001b[0m | \u001b[0m 2.475   \u001b[0m | \u001b[0m 23.21   \u001b[0m | \u001b[0m 0.02949 \u001b[0m |\n",
      "| \u001b[0m 10      \u001b[0m | \u001b[0m 0.7069  \u001b[0m | \u001b[0m 0.7818  \u001b[0m | \u001b[0m 0.5282  \u001b[0m | \u001b[0m 0.5985  \u001b[0m | \u001b[0m 0.04398 \u001b[0m | \u001b[0m 683.9   \u001b[0m | \u001b[0m 18.52   \u001b[0m | \u001b[0m 8.753   \u001b[0m | \u001b[0m 4.078   \u001b[0m | \u001b[0m 0.4814  \u001b[0m |\n",
      "=====================================================================================================================================\n",
      "15455\n",
      "|   iter    |  target   | baggin... | colsam... | featur... | learni... | n_esti... | num_le... | reg_alpha | reg_la... | subsample |\n",
      "-------------------------------------------------------------------------------------------------------------------------------------\n"
     ]
    },
    {
     "name": "stdout",
     "output_type": "stream",
     "text": [
      "| \u001b[0m 1       \u001b[0m | \u001b[0m 0.706   \u001b[0m | \u001b[0m 0.7961  \u001b[0m | \u001b[0m 0.1978  \u001b[0m | \u001b[0m 0.7304  \u001b[0m | \u001b[0m 0.08751 \u001b[0m | \u001b[0m 493.1   \u001b[0m | \u001b[0m 199.2   \u001b[0m | \u001b[0m 1.667   \u001b[0m | \u001b[0m 47.64   \u001b[0m | \u001b[0m 0.02089 \u001b[0m |\n",
      "| \u001b[95m 2       \u001b[0m | \u001b[95m 0.7084  \u001b[0m | \u001b[95m 0.6086  \u001b[0m | \u001b[95m 0.335   \u001b[0m | \u001b[95m 0.72    \u001b[0m | \u001b[95m 0.07989 \u001b[0m | \u001b[95m 453.5   \u001b[0m | \u001b[95m 98.46   \u001b[0m | \u001b[95m 1.394   \u001b[0m | \u001b[95m 20.89   \u001b[0m | \u001b[95m 0.1293  \u001b[0m |\n",
      "| \u001b[0m 3       \u001b[0m | \u001b[0m 0.6932  \u001b[0m | \u001b[0m 0.5314  \u001b[0m | \u001b[0m 0.9112  \u001b[0m | \u001b[0m 0.6433  \u001b[0m | \u001b[0m 0.06717 \u001b[0m | \u001b[0m 86.33   \u001b[0m | \u001b[0m 36.28   \u001b[0m | \u001b[0m 5.249   \u001b[0m | \u001b[0m 42.78   \u001b[0m | \u001b[0m 0.4588  \u001b[0m |\n",
      "| \u001b[95m 4       \u001b[0m | \u001b[95m 0.7112  \u001b[0m | \u001b[95m 0.5951  \u001b[0m | \u001b[95m 0.9901  \u001b[0m | \u001b[95m 0.6812  \u001b[0m | \u001b[95m 0.04278 \u001b[0m | \u001b[95m 583.2   \u001b[0m | \u001b[95m 69.19   \u001b[0m | \u001b[95m 3.144   \u001b[0m | \u001b[95m 11.59   \u001b[0m | \u001b[95m 0.457   \u001b[0m |\n",
      "| \u001b[0m 5       \u001b[0m | \u001b[0m 0.6568  \u001b[0m | \u001b[0m 0.9533  \u001b[0m | \u001b[0m 0.1468  \u001b[0m | \u001b[0m 0.6552  \u001b[0m | \u001b[0m 0.003313\u001b[0m | \u001b[0m 226.2   \u001b[0m | \u001b[0m 22.71   \u001b[0m | \u001b[0m 1.607   \u001b[0m | \u001b[0m 38.06   \u001b[0m | \u001b[0m 0.4852  \u001b[0m |\n",
      "| \u001b[95m 6       \u001b[0m | \u001b[95m 0.7124  \u001b[0m | \u001b[95m 0.6946  \u001b[0m | \u001b[95m 0.629   \u001b[0m | \u001b[95m 0.5117  \u001b[0m | \u001b[95m 0.02345 \u001b[0m | \u001b[95m 599.4   \u001b[0m | \u001b[95m 74.76   \u001b[0m | \u001b[95m 3.855   \u001b[0m | \u001b[95m 38.78   \u001b[0m | \u001b[95m 0.1458  \u001b[0m |\n",
      "| \u001b[0m 7       \u001b[0m | \u001b[0m 0.6878  \u001b[0m | \u001b[0m 0.5     \u001b[0m | \u001b[0m 0.0     \u001b[0m | \u001b[0m 0.5     \u001b[0m | \u001b[0m 0.0001  \u001b[0m | \u001b[0m 1.024e+0\u001b[0m | \u001b[0m 256.0   \u001b[0m | \u001b[0m 1.382e-0\u001b[0m | \u001b[0m 2.832e-0\u001b[0m | \u001b[0m 0.4999  \u001b[0m |\n",
      "| \u001b[0m 8       \u001b[0m | \u001b[0m 0.7092  \u001b[0m | \u001b[0m 0.6152  \u001b[0m | \u001b[0m 0.4053  \u001b[0m | \u001b[0m 0.9106  \u001b[0m | \u001b[0m 0.0161  \u001b[0m | \u001b[0m 492.9   \u001b[0m | \u001b[0m 194.8   \u001b[0m | \u001b[0m 2.245   \u001b[0m | \u001b[0m 45.93   \u001b[0m | \u001b[0m 0.4831  \u001b[0m |\n",
      "| \u001b[0m 9       \u001b[0m | \u001b[0m 0.7092  \u001b[0m | \u001b[0m 0.5225  \u001b[0m | \u001b[0m 0.7044  \u001b[0m | \u001b[0m 0.7824  \u001b[0m | \u001b[0m 0.02098 \u001b[0m | \u001b[0m 579.5   \u001b[0m | \u001b[0m 65.16   \u001b[0m | \u001b[0m 6.726   \u001b[0m | \u001b[0m 12.37   \u001b[0m | \u001b[0m 0.2426  \u001b[0m |\n",
      "| \u001b[0m 10      \u001b[0m | \u001b[0m 0.6755  \u001b[0m | \u001b[0m 0.8382  \u001b[0m | \u001b[0m 0.8003  \u001b[0m | \u001b[0m 0.52    \u001b[0m | \u001b[0m 0.05863 \u001b[0m | \u001b[0m 17.32   \u001b[0m | \u001b[0m 255.2   \u001b[0m | \u001b[0m 6.748   \u001b[0m | \u001b[0m 11.19   \u001b[0m | \u001b[0m 0.3845  \u001b[0m |\n",
      "=====================================================================================================================================\n",
      "64937\n",
      "|   iter    |  target   | baggin... | colsam... | featur... | learni... | n_esti... | num_le... | reg_alpha | reg_la... | subsample |\n",
      "-------------------------------------------------------------------------------------------------------------------------------------\n",
      "| \u001b[0m 1       \u001b[0m | \u001b[0m 0.7034  \u001b[0m | \u001b[0m 0.7478  \u001b[0m | \u001b[0m 0.9338  \u001b[0m | \u001b[0m 0.8792  \u001b[0m | \u001b[0m 0.09361 \u001b[0m | \u001b[0m 675.7   \u001b[0m | \u001b[0m 147.5   \u001b[0m | \u001b[0m 7.09    \u001b[0m | \u001b[0m 27.46   \u001b[0m | \u001b[0m 0.02522 \u001b[0m |\n",
      "| \u001b[95m 2       \u001b[0m | \u001b[95m 0.7088  \u001b[0m | \u001b[95m 0.5916  \u001b[0m | \u001b[95m 0.1325  \u001b[0m | \u001b[95m 0.7298  \u001b[0m | \u001b[95m 0.05858 \u001b[0m | \u001b[95m 772.9   \u001b[0m | \u001b[95m 57.48   \u001b[0m | \u001b[95m 8.738   \u001b[0m | \u001b[95m 5.958   \u001b[0m | \u001b[95m 0.3978  \u001b[0m |\n",
      "| \u001b[95m 3       \u001b[0m | \u001b[95m 0.709   \u001b[0m | \u001b[95m 0.7355  \u001b[0m | \u001b[95m 0.4089  \u001b[0m | \u001b[95m 0.6473  \u001b[0m | \u001b[95m 0.07147 \u001b[0m | \u001b[95m 424.8   \u001b[0m | \u001b[95m 104.9   \u001b[0m | \u001b[95m 2.541   \u001b[0m | \u001b[95m 43.69   \u001b[0m | \u001b[95m 0.2262  \u001b[0m |\n",
      "| \u001b[0m 4       \u001b[0m | \u001b[0m 0.7074  \u001b[0m | \u001b[0m 0.8702  \u001b[0m | \u001b[0m 0.8792  \u001b[0m | \u001b[0m 0.9192  \u001b[0m | \u001b[0m 0.099   \u001b[0m | \u001b[0m 165.0   \u001b[0m | \u001b[0m 76.28   \u001b[0m | \u001b[0m 0.2385  \u001b[0m | \u001b[0m 26.45   \u001b[0m | \u001b[0m 0.4283  \u001b[0m |\n",
      "| \u001b[0m 5       \u001b[0m | \u001b[0m 0.7076  \u001b[0m | \u001b[0m 0.5995  \u001b[0m | \u001b[0m 0.13    \u001b[0m | \u001b[0m 0.9644  \u001b[0m | \u001b[0m 0.06942 \u001b[0m | \u001b[0m 549.0   \u001b[0m | \u001b[0m 56.67   \u001b[0m | \u001b[0m 7.979   \u001b[0m | \u001b[0m 36.5    \u001b[0m | \u001b[0m 0.3351  \u001b[0m |\n",
      "| \u001b[0m 6       \u001b[0m | \u001b[0m 0.6681  \u001b[0m | \u001b[0m 0.5435  \u001b[0m | \u001b[0m 0.4704  \u001b[0m | \u001b[0m 0.7379  \u001b[0m | \u001b[0m 0.09081 \u001b[0m | \u001b[0m 19.51   \u001b[0m | \u001b[0m 22.88   \u001b[0m | \u001b[0m 0.03582 \u001b[0m | \u001b[0m 0.4408  \u001b[0m | \u001b[0m 0.3854  \u001b[0m |\n",
      "| \u001b[95m 7       \u001b[0m | \u001b[95m 0.71    \u001b[0m | \u001b[95m 0.8146  \u001b[0m | \u001b[95m 0.8633  \u001b[0m | \u001b[95m 0.768   \u001b[0m | \u001b[95m 0.05988 \u001b[0m | \u001b[95m 1.021e+0\u001b[0m | \u001b[95m 40.74   \u001b[0m | \u001b[95m 0.3242  \u001b[0m | \u001b[95m 49.96   \u001b[0m | \u001b[95m 0.07426 \u001b[0m |\n",
      "| \u001b[0m 8       \u001b[0m | \u001b[0m 0.6799  \u001b[0m | \u001b[0m 0.5815  \u001b[0m | \u001b[0m 0.8079  \u001b[0m | \u001b[0m 0.5769  \u001b[0m | \u001b[0m 0.07706 \u001b[0m | \u001b[0m 23.05   \u001b[0m | \u001b[0m 252.8   \u001b[0m | \u001b[0m 5.156   \u001b[0m | \u001b[0m 41.9    \u001b[0m | \u001b[0m 0.148   \u001b[0m |\n",
      "| \u001b[95m 9       \u001b[0m | \u001b[95m 0.7112  \u001b[0m | \u001b[95m 0.5534  \u001b[0m | \u001b[95m 0.3006  \u001b[0m | \u001b[95m 0.5794  \u001b[0m | \u001b[95m 0.04415 \u001b[0m | \u001b[95m 765.4   \u001b[0m | \u001b[95m 58.48   \u001b[0m | \u001b[95m 8.99    \u001b[0m | \u001b[95m 4.056   \u001b[0m | \u001b[95m 0.4365  \u001b[0m |\n",
      "| \u001b[0m 10      \u001b[0m | \u001b[0m 0.7089  \u001b[0m | \u001b[0m 0.7726  \u001b[0m | \u001b[0m 0.862   \u001b[0m | \u001b[0m 0.6491  \u001b[0m | \u001b[0m 0.02966 \u001b[0m | \u001b[0m 1.023e+0\u001b[0m | \u001b[0m 252.2   \u001b[0m | \u001b[0m 8.326   \u001b[0m | \u001b[0m 14.96   \u001b[0m | \u001b[0m 0.2671  \u001b[0m |\n",
      "=====================================================================================================================================\n"
     ]
    }
   ],
   "source": [
    "import sclearn.learning\n",
    "import random\n",
    "reload_module(sclearn.learning)\n",
    "model_sets = []\n",
    "random.seed(1)\n",
    "for i in range(5):\n",
    "    cur_rand = random.randint(0, 65535)\n",
    "    print(cur_rand)\n",
    "    models, lgb_bo = sclearn.learning.train_models(x_train, y_train, random_state=cur_rand)\n",
    "    model_sets.append(models)"
   ]
  },
  {
   "cell_type": "markdown",
   "metadata": {
    "colab_type": "text",
    "id": "EwSiRzlwtZxX"
   },
   "source": [
    "# 테스트"
   ]
  },
  {
   "cell_type": "code",
   "execution_count": 21,
   "metadata": {
    "colab": {},
    "colab_type": "code",
    "id": "5oxO65REuAW1"
   },
   "outputs": [],
   "source": [
    "test = pd.read_csv('data/test.csv')"
   ]
  },
  {
   "cell_type": "code",
   "execution_count": 22,
   "metadata": {
    "colab": {},
    "colab_type": "code",
    "id": "D2wZT3QhtHwN"
   },
   "outputs": [
    {
     "data": {
      "application/vnd.jupyter.widget-view+json": {
       "model_id": "3227143e44fa4bcaaec848956fc9df8a",
       "version_major": 2,
       "version_minor": 0
      },
      "text/plain": [
       "HBox(children=(FloatProgress(value=0.0, max=7197165.0), HTML(value='')))"
      ]
     },
     "metadata": {},
     "output_type": "display_data"
    },
    {
     "name": "stdout",
     "output_type": "stream",
     "text": [
      "\n"
     ]
    },
    {
     "data": {
      "application/vnd.jupyter.widget-view+json": {
       "model_id": "69c03c87de2e42cf8ebcc96fce256708",
       "version_major": 2,
       "version_minor": 0
      },
      "text/plain": [
       "HBox(children=(FloatProgress(value=0.0, max=7150741.0), HTML(value='')))"
      ]
     },
     "metadata": {},
     "output_type": "display_data"
    },
    {
     "name": "stdout",
     "output_type": "stream",
     "text": [
      "\n"
     ]
    },
    {
     "data": {
      "application/vnd.jupyter.widget-view+json": {
       "model_id": "cefac28ab37d4a6abf06871434391132",
       "version_major": 2,
       "version_minor": 0
      },
      "text/plain": [
       "HBox(children=(FloatProgress(value=0.0, max=7130258.0), HTML(value='')))"
      ]
     },
     "metadata": {},
     "output_type": "display_data"
    },
    {
     "name": "stdout",
     "output_type": "stream",
     "text": [
      "\n"
     ]
    },
    {
     "data": {
      "application/vnd.jupyter.widget-view+json": {
       "model_id": "c5a8610403cf4f35835ab8da2afc0afe",
       "version_major": 2,
       "version_minor": 0
      },
      "text/plain": [
       "HBox(children=(FloatProgress(value=0.0, max=7236685.0), HTML(value='')))"
      ]
     },
     "metadata": {},
     "output_type": "display_data"
    },
    {
     "name": "stdout",
     "output_type": "stream",
     "text": [
      "\n"
     ]
    }
   ],
   "source": [
    "import sclearn.feature_engineering\n",
    "reload_module(sclearn.feature_engineering)\n",
    "\n",
    "# x_test = sclearn.feature_engineering.prepare_x_data(test)\n",
    "x_test = sclearn.feature_engineering.chunkize_dataframe(sclearn.feature_engineering.prepare_x_data, test, n_splits=4)"
   ]
  },
  {
   "cell_type": "code",
   "execution_count": 23,
   "metadata": {
    "colab": {},
    "colab_type": "code",
    "id": "QG7mxsDwyek5"
   },
   "outputs": [
    {
     "data": {
      "text/html": [
       "<div>\n",
       "<style scoped>\n",
       "    .dataframe tbody tr th:only-of-type {\n",
       "        vertical-align: middle;\n",
       "    }\n",
       "\n",
       "    .dataframe tbody tr th {\n",
       "        vertical-align: top;\n",
       "    }\n",
       "\n",
       "    .dataframe thead th {\n",
       "        text-align: right;\n",
       "    }\n",
       "</style>\n",
       "<table border=\"1\" class=\"dataframe\">\n",
       "  <thead>\n",
       "    <tr style=\"text-align: right;\">\n",
       "      <th></th>\n",
       "      <th>time</th>\n",
       "      <th>p0_species</th>\n",
       "      <th>p1_species</th>\n",
       "      <th>p0_event_Ability</th>\n",
       "      <th>p0_event_AddToControlGroup</th>\n",
       "      <th>p0_event_Camera</th>\n",
       "      <th>p0_event_ControlGroup</th>\n",
       "      <th>p0_event_GetControlGroup</th>\n",
       "      <th>p0_event_Right Click</th>\n",
       "      <th>p0_event_Selection</th>\n",
       "      <th>...</th>\n",
       "      <th>delta_first_time_(16E4) - BuildEvolutionChamber</th>\n",
       "      <th>delta_first_time_(1401) - BuildSiegeTank</th>\n",
       "      <th>delta_first_time_(4AE0) - BuildOracleStasisTrap</th>\n",
       "      <th>delta_first_time_(1821) - MorphZergling</th>\n",
       "      <th>delta_first_time_(1584) - TrainDarkTemplar</th>\n",
       "      <th>delta_first_time_(1540) - BuildNexus</th>\n",
       "      <th>delta_first_time_(15A2) - TrainCarrier</th>\n",
       "      <th>delta_first_time_(1406) - BuildBattleHellion</th>\n",
       "      <th>delta_first_time_(5640) - MorphToTransportOverlord</th>\n",
       "      <th>Cluster</th>\n",
       "    </tr>\n",
       "  </thead>\n",
       "  <tbody>\n",
       "    <tr>\n",
       "      <th>38872</th>\n",
       "      <td>426.0</td>\n",
       "      <td>1</td>\n",
       "      <td>1</td>\n",
       "      <td>31.0</td>\n",
       "      <td>1.0</td>\n",
       "      <td>232.0</td>\n",
       "      <td>0.0</td>\n",
       "      <td>9.0</td>\n",
       "      <td>241.0</td>\n",
       "      <td>52.0</td>\n",
       "      <td>...</td>\n",
       "      <td>0.0</td>\n",
       "      <td>0.0</td>\n",
       "      <td>0.0</td>\n",
       "      <td>0.0</td>\n",
       "      <td>0.0</td>\n",
       "      <td>99718.0</td>\n",
       "      <td>0.0</td>\n",
       "      <td>0.0</td>\n",
       "      <td>0.0</td>\n",
       "      <td>29</td>\n",
       "    </tr>\n",
       "    <tr>\n",
       "      <th>38873</th>\n",
       "      <td>367.0</td>\n",
       "      <td>2</td>\n",
       "      <td>1</td>\n",
       "      <td>34.0</td>\n",
       "      <td>0.0</td>\n",
       "      <td>200.0</td>\n",
       "      <td>4.0</td>\n",
       "      <td>18.0</td>\n",
       "      <td>51.0</td>\n",
       "      <td>114.0</td>\n",
       "      <td>...</td>\n",
       "      <td>0.0</td>\n",
       "      <td>0.0</td>\n",
       "      <td>0.0</td>\n",
       "      <td>-99820.0</td>\n",
       "      <td>0.0</td>\n",
       "      <td>99893.0</td>\n",
       "      <td>0.0</td>\n",
       "      <td>0.0</td>\n",
       "      <td>0.0</td>\n",
       "      <td>49</td>\n",
       "    </tr>\n",
       "    <tr>\n",
       "      <th>38874</th>\n",
       "      <td>281.0</td>\n",
       "      <td>0</td>\n",
       "      <td>0</td>\n",
       "      <td>33.0</td>\n",
       "      <td>0.0</td>\n",
       "      <td>245.0</td>\n",
       "      <td>0.0</td>\n",
       "      <td>63.0</td>\n",
       "      <td>79.0</td>\n",
       "      <td>42.0</td>\n",
       "      <td>...</td>\n",
       "      <td>0.0</td>\n",
       "      <td>0.0</td>\n",
       "      <td>0.0</td>\n",
       "      <td>0.0</td>\n",
       "      <td>0.0</td>\n",
       "      <td>0.0</td>\n",
       "      <td>0.0</td>\n",
       "      <td>0.0</td>\n",
       "      <td>0.0</td>\n",
       "      <td>40</td>\n",
       "    </tr>\n",
       "    <tr>\n",
       "      <th>38875</th>\n",
       "      <td>478.0</td>\n",
       "      <td>0</td>\n",
       "      <td>1</td>\n",
       "      <td>95.0</td>\n",
       "      <td>8.0</td>\n",
       "      <td>515.0</td>\n",
       "      <td>0.0</td>\n",
       "      <td>255.0</td>\n",
       "      <td>218.0</td>\n",
       "      <td>123.0</td>\n",
       "      <td>...</td>\n",
       "      <td>0.0</td>\n",
       "      <td>-99625.0</td>\n",
       "      <td>0.0</td>\n",
       "      <td>0.0</td>\n",
       "      <td>0.0</td>\n",
       "      <td>99877.0</td>\n",
       "      <td>0.0</td>\n",
       "      <td>0.0</td>\n",
       "      <td>0.0</td>\n",
       "      <td>5</td>\n",
       "    </tr>\n",
       "    <tr>\n",
       "      <th>38876</th>\n",
       "      <td>170.0</td>\n",
       "      <td>2</td>\n",
       "      <td>2</td>\n",
       "      <td>7.0</td>\n",
       "      <td>2.0</td>\n",
       "      <td>129.0</td>\n",
       "      <td>0.0</td>\n",
       "      <td>387.0</td>\n",
       "      <td>30.0</td>\n",
       "      <td>25.0</td>\n",
       "      <td>...</td>\n",
       "      <td>0.0</td>\n",
       "      <td>0.0</td>\n",
       "      <td>0.0</td>\n",
       "      <td>99837.0</td>\n",
       "      <td>0.0</td>\n",
       "      <td>0.0</td>\n",
       "      <td>0.0</td>\n",
       "      <td>0.0</td>\n",
       "      <td>0.0</td>\n",
       "      <td>30</td>\n",
       "    </tr>\n",
       "  </tbody>\n",
       "</table>\n",
       "<p>5 rows × 1524 columns</p>\n",
       "</div>"
      ],
      "text/plain": [
       "        time p0_species p1_species  p0_event_Ability  \\\n",
       "38872  426.0          1          1              31.0   \n",
       "38873  367.0          2          1              34.0   \n",
       "38874  281.0          0          0              33.0   \n",
       "38875  478.0          0          1              95.0   \n",
       "38876  170.0          2          2               7.0   \n",
       "\n",
       "       p0_event_AddToControlGroup  p0_event_Camera  p0_event_ControlGroup  \\\n",
       "38872                         1.0            232.0                    0.0   \n",
       "38873                         0.0            200.0                    4.0   \n",
       "38874                         0.0            245.0                    0.0   \n",
       "38875                         8.0            515.0                    0.0   \n",
       "38876                         2.0            129.0                    0.0   \n",
       "\n",
       "       p0_event_GetControlGroup  p0_event_Right Click  p0_event_Selection  \\\n",
       "38872                       9.0                 241.0                52.0   \n",
       "38873                      18.0                  51.0               114.0   \n",
       "38874                      63.0                  79.0                42.0   \n",
       "38875                     255.0                 218.0               123.0   \n",
       "38876                     387.0                  30.0                25.0   \n",
       "\n",
       "       ...  delta_first_time_(16E4) - BuildEvolutionChamber  \\\n",
       "38872  ...                                              0.0   \n",
       "38873  ...                                              0.0   \n",
       "38874  ...                                              0.0   \n",
       "38875  ...                                              0.0   \n",
       "38876  ...                                              0.0   \n",
       "\n",
       "       delta_first_time_(1401) - BuildSiegeTank  \\\n",
       "38872                                       0.0   \n",
       "38873                                       0.0   \n",
       "38874                                       0.0   \n",
       "38875                                  -99625.0   \n",
       "38876                                       0.0   \n",
       "\n",
       "       delta_first_time_(4AE0) - BuildOracleStasisTrap  \\\n",
       "38872                                              0.0   \n",
       "38873                                              0.0   \n",
       "38874                                              0.0   \n",
       "38875                                              0.0   \n",
       "38876                                              0.0   \n",
       "\n",
       "       delta_first_time_(1821) - MorphZergling  \\\n",
       "38872                                      0.0   \n",
       "38873                                 -99820.0   \n",
       "38874                                      0.0   \n",
       "38875                                      0.0   \n",
       "38876                                  99837.0   \n",
       "\n",
       "       delta_first_time_(1584) - TrainDarkTemplar  \\\n",
       "38872                                         0.0   \n",
       "38873                                         0.0   \n",
       "38874                                         0.0   \n",
       "38875                                         0.0   \n",
       "38876                                         0.0   \n",
       "\n",
       "       delta_first_time_(1540) - BuildNexus  \\\n",
       "38872                               99718.0   \n",
       "38873                               99893.0   \n",
       "38874                                   0.0   \n",
       "38875                               99877.0   \n",
       "38876                                   0.0   \n",
       "\n",
       "       delta_first_time_(15A2) - TrainCarrier  \\\n",
       "38872                                     0.0   \n",
       "38873                                     0.0   \n",
       "38874                                     0.0   \n",
       "38875                                     0.0   \n",
       "38876                                     0.0   \n",
       "\n",
       "       delta_first_time_(1406) - BuildBattleHellion  \\\n",
       "38872                                           0.0   \n",
       "38873                                           0.0   \n",
       "38874                                           0.0   \n",
       "38875                                           0.0   \n",
       "38876                                           0.0   \n",
       "\n",
       "       delta_first_time_(5640) - MorphToTransportOverlord  Cluster  \n",
       "38872                                                0.0        29  \n",
       "38873                                                0.0        49  \n",
       "38874                                                0.0        40  \n",
       "38875                                                0.0         5  \n",
       "38876                                                0.0        30  \n",
       "\n",
       "[5 rows x 1524 columns]"
      ]
     },
     "execution_count": 23,
     "metadata": {},
     "output_type": "execute_result"
    }
   ],
   "source": [
    "x_test.head()"
   ]
  },
  {
   "cell_type": "code",
   "execution_count": 24,
   "metadata": {
    "colab": {},
    "colab_type": "code",
    "id": "fTkU1FY_xxpV"
   },
   "outputs": [],
   "source": [
    "import sclearn.learning\n",
    "reload_module(sclearn.learning)\n",
    "\n",
    "for i in range(5):\n",
    "    submission = sclearn.learning.test_models(model_sets[i], x_test)\n",
    "    submission.to_csv('submission_' + str(i) + '.csv')\n",
    "    submission.head()"
   ]
  },
  {
   "cell_type": "code",
   "execution_count": 25,
   "metadata": {
    "colab": {},
    "colab_type": "code",
    "id": "JRRPLboQ6t4X"
   },
   "outputs": [],
   "source": [
    "df_arr = []\n",
    "for i in range(5):\n",
    "    df = pd.read_csv('submission_' + str(i) + '.csv')\n",
    "    df_arr.append(df)\n",
    "    df_arr[i].head()"
   ]
  },
  {
   "cell_type": "code",
   "execution_count": 28,
   "metadata": {},
   "outputs": [
    {
     "data": {
      "text/html": [
       "<div>\n",
       "<style scoped>\n",
       "    .dataframe tbody tr th:only-of-type {\n",
       "        vertical-align: middle;\n",
       "    }\n",
       "\n",
       "    .dataframe tbody tr th {\n",
       "        vertical-align: top;\n",
       "    }\n",
       "\n",
       "    .dataframe thead th {\n",
       "        text-align: right;\n",
       "    }\n",
       "</style>\n",
       "<table border=\"1\" class=\"dataframe\">\n",
       "  <thead>\n",
       "    <tr style=\"text-align: right;\">\n",
       "      <th></th>\n",
       "      <th>game_id</th>\n",
       "      <th>winner</th>\n",
       "    </tr>\n",
       "  </thead>\n",
       "  <tbody>\n",
       "    <tr>\n",
       "      <th>0</th>\n",
       "      <td>38872</td>\n",
       "      <td>0.518079</td>\n",
       "    </tr>\n",
       "    <tr>\n",
       "      <th>1</th>\n",
       "      <td>38873</td>\n",
       "      <td>0.735222</td>\n",
       "    </tr>\n",
       "    <tr>\n",
       "      <th>2</th>\n",
       "      <td>38874</td>\n",
       "      <td>0.386884</td>\n",
       "    </tr>\n",
       "    <tr>\n",
       "      <th>3</th>\n",
       "      <td>38875</td>\n",
       "      <td>0.125060</td>\n",
       "    </tr>\n",
       "    <tr>\n",
       "      <th>4</th>\n",
       "      <td>38876</td>\n",
       "      <td>0.605323</td>\n",
       "    </tr>\n",
       "  </tbody>\n",
       "</table>\n",
       "</div>"
      ],
      "text/plain": [
       "   game_id    winner\n",
       "0    38872  0.518079\n",
       "1    38873  0.735222\n",
       "2    38874  0.386884\n",
       "3    38875  0.125060\n",
       "4    38876  0.605323"
      ]
     },
     "execution_count": 28,
     "metadata": {},
     "output_type": "execute_result"
    }
   ],
   "source": [
    "df final = pd.concat([])"
   ]
  },
  {
   "cell_type": "code",
   "execution_count": 34,
   "metadata": {},
   "outputs": [],
   "source": [
    "for i in range(5):\n",
    "    df_arr[i] = df_arr[i].rename(columns={'winner':'winner'+str(i)})\n",
    "\n",
    "# submit = df_arr[0]\n",
    "# submit = pd.concat([df_arr[0], df_arr[1][['winner']]], axis=1)\n",
    "# submit\n",
    "# for i in range(1, 5):\n",
    "#     submit = submit.conca"
   ]
  },
  {
   "cell_type": "code",
   "execution_count": 39,
   "metadata": {},
   "outputs": [
    {
     "data": {
      "text/html": [
       "<div>\n",
       "<style scoped>\n",
       "    .dataframe tbody tr th:only-of-type {\n",
       "        vertical-align: middle;\n",
       "    }\n",
       "\n",
       "    .dataframe tbody tr th {\n",
       "        vertical-align: top;\n",
       "    }\n",
       "\n",
       "    .dataframe thead th {\n",
       "        text-align: right;\n",
       "    }\n",
       "</style>\n",
       "<table border=\"1\" class=\"dataframe\">\n",
       "  <thead>\n",
       "    <tr style=\"text-align: right;\">\n",
       "      <th></th>\n",
       "      <th>game_id</th>\n",
       "      <th>winner0</th>\n",
       "      <th>winner1</th>\n",
       "      <th>winner2</th>\n",
       "      <th>winner3</th>\n",
       "      <th>winner4</th>\n",
       "    </tr>\n",
       "  </thead>\n",
       "  <tbody>\n",
       "    <tr>\n",
       "      <th>0</th>\n",
       "      <td>38872</td>\n",
       "      <td>0.438325</td>\n",
       "      <td>0.518079</td>\n",
       "      <td>0.569683</td>\n",
       "      <td>0.577401</td>\n",
       "      <td>0.505146</td>\n",
       "    </tr>\n",
       "    <tr>\n",
       "      <th>1</th>\n",
       "      <td>38873</td>\n",
       "      <td>0.867941</td>\n",
       "      <td>0.735222</td>\n",
       "      <td>0.701343</td>\n",
       "      <td>0.613010</td>\n",
       "      <td>0.656040</td>\n",
       "    </tr>\n",
       "    <tr>\n",
       "      <th>2</th>\n",
       "      <td>38874</td>\n",
       "      <td>0.434708</td>\n",
       "      <td>0.386884</td>\n",
       "      <td>0.417716</td>\n",
       "      <td>0.436444</td>\n",
       "      <td>0.443957</td>\n",
       "    </tr>\n",
       "    <tr>\n",
       "      <th>3</th>\n",
       "      <td>38875</td>\n",
       "      <td>0.089959</td>\n",
       "      <td>0.125060</td>\n",
       "      <td>0.151980</td>\n",
       "      <td>0.184807</td>\n",
       "      <td>0.142788</td>\n",
       "    </tr>\n",
       "    <tr>\n",
       "      <th>4</th>\n",
       "      <td>38876</td>\n",
       "      <td>0.551667</td>\n",
       "      <td>0.605323</td>\n",
       "      <td>0.619235</td>\n",
       "      <td>0.614321</td>\n",
       "      <td>0.600617</td>\n",
       "    </tr>\n",
       "    <tr>\n",
       "      <th>...</th>\n",
       "      <td>...</td>\n",
       "      <td>...</td>\n",
       "      <td>...</td>\n",
       "      <td>...</td>\n",
       "      <td>...</td>\n",
       "      <td>...</td>\n",
       "    </tr>\n",
       "    <tr>\n",
       "      <th>16782</th>\n",
       "      <td>55654</td>\n",
       "      <td>0.671801</td>\n",
       "      <td>0.630071</td>\n",
       "      <td>0.674081</td>\n",
       "      <td>0.663704</td>\n",
       "      <td>0.660027</td>\n",
       "    </tr>\n",
       "    <tr>\n",
       "      <th>16783</th>\n",
       "      <td>55655</td>\n",
       "      <td>0.113945</td>\n",
       "      <td>0.201043</td>\n",
       "      <td>0.199242</td>\n",
       "      <td>0.231664</td>\n",
       "      <td>0.205583</td>\n",
       "    </tr>\n",
       "    <tr>\n",
       "      <th>16784</th>\n",
       "      <td>55656</td>\n",
       "      <td>0.762480</td>\n",
       "      <td>0.720707</td>\n",
       "      <td>0.730283</td>\n",
       "      <td>0.743149</td>\n",
       "      <td>0.738786</td>\n",
       "    </tr>\n",
       "    <tr>\n",
       "      <th>16785</th>\n",
       "      <td>55657</td>\n",
       "      <td>0.692533</td>\n",
       "      <td>0.603034</td>\n",
       "      <td>0.634787</td>\n",
       "      <td>0.586707</td>\n",
       "      <td>0.599876</td>\n",
       "    </tr>\n",
       "    <tr>\n",
       "      <th>16786</th>\n",
       "      <td>55658</td>\n",
       "      <td>0.384594</td>\n",
       "      <td>0.430259</td>\n",
       "      <td>0.423867</td>\n",
       "      <td>0.453971</td>\n",
       "      <td>0.400601</td>\n",
       "    </tr>\n",
       "  </tbody>\n",
       "</table>\n",
       "<p>16787 rows × 6 columns</p>\n",
       "</div>"
      ],
      "text/plain": [
       "       game_id   winner0   winner1   winner2   winner3   winner4\n",
       "0        38872  0.438325  0.518079  0.569683  0.577401  0.505146\n",
       "1        38873  0.867941  0.735222  0.701343  0.613010  0.656040\n",
       "2        38874  0.434708  0.386884  0.417716  0.436444  0.443957\n",
       "3        38875  0.089959  0.125060  0.151980  0.184807  0.142788\n",
       "4        38876  0.551667  0.605323  0.619235  0.614321  0.600617\n",
       "...        ...       ...       ...       ...       ...       ...\n",
       "16782    55654  0.671801  0.630071  0.674081  0.663704  0.660027\n",
       "16783    55655  0.113945  0.201043  0.199242  0.231664  0.205583\n",
       "16784    55656  0.762480  0.720707  0.730283  0.743149  0.738786\n",
       "16785    55657  0.692533  0.603034  0.634787  0.586707  0.599876\n",
       "16786    55658  0.384594  0.430259  0.423867  0.453971  0.400601\n",
       "\n",
       "[16787 rows x 6 columns]"
      ]
     },
     "execution_count": 39,
     "metadata": {},
     "output_type": "execute_result"
    }
   ],
   "source": [
    "\n",
    "submit = pd.concat([df_arr[0], df_arr[1][['winner1']], df_arr[2][['winner2']], df_arr[3][['winner3']], df_arr[4][['winner4']]], axis=1)\n",
    "submit"
   ]
  },
  {
   "cell_type": "code",
   "execution_count": 40,
   "metadata": {},
   "outputs": [
    {
     "data": {
      "text/html": [
       "<div>\n",
       "<style scoped>\n",
       "    .dataframe tbody tr th:only-of-type {\n",
       "        vertical-align: middle;\n",
       "    }\n",
       "\n",
       "    .dataframe tbody tr th {\n",
       "        vertical-align: top;\n",
       "    }\n",
       "\n",
       "    .dataframe thead th {\n",
       "        text-align: right;\n",
       "    }\n",
       "</style>\n",
       "<table border=\"1\" class=\"dataframe\">\n",
       "  <thead>\n",
       "    <tr style=\"text-align: right;\">\n",
       "      <th></th>\n",
       "      <th>game_id</th>\n",
       "      <th>winner0</th>\n",
       "      <th>winner1</th>\n",
       "      <th>winner2</th>\n",
       "      <th>winner3</th>\n",
       "      <th>winner4</th>\n",
       "      <th>winner</th>\n",
       "    </tr>\n",
       "  </thead>\n",
       "  <tbody>\n",
       "    <tr>\n",
       "      <th>0</th>\n",
       "      <td>38872</td>\n",
       "      <td>0.438325</td>\n",
       "      <td>0.518079</td>\n",
       "      <td>0.569683</td>\n",
       "      <td>0.577401</td>\n",
       "      <td>0.505146</td>\n",
       "      <td>0.521727</td>\n",
       "    </tr>\n",
       "    <tr>\n",
       "      <th>1</th>\n",
       "      <td>38873</td>\n",
       "      <td>0.867941</td>\n",
       "      <td>0.735222</td>\n",
       "      <td>0.701343</td>\n",
       "      <td>0.613010</td>\n",
       "      <td>0.656040</td>\n",
       "      <td>0.714711</td>\n",
       "    </tr>\n",
       "    <tr>\n",
       "      <th>2</th>\n",
       "      <td>38874</td>\n",
       "      <td>0.434708</td>\n",
       "      <td>0.386884</td>\n",
       "      <td>0.417716</td>\n",
       "      <td>0.436444</td>\n",
       "      <td>0.443957</td>\n",
       "      <td>0.423942</td>\n",
       "    </tr>\n",
       "    <tr>\n",
       "      <th>3</th>\n",
       "      <td>38875</td>\n",
       "      <td>0.089959</td>\n",
       "      <td>0.125060</td>\n",
       "      <td>0.151980</td>\n",
       "      <td>0.184807</td>\n",
       "      <td>0.142788</td>\n",
       "      <td>0.138919</td>\n",
       "    </tr>\n",
       "    <tr>\n",
       "      <th>4</th>\n",
       "      <td>38876</td>\n",
       "      <td>0.551667</td>\n",
       "      <td>0.605323</td>\n",
       "      <td>0.619235</td>\n",
       "      <td>0.614321</td>\n",
       "      <td>0.600617</td>\n",
       "      <td>0.598232</td>\n",
       "    </tr>\n",
       "    <tr>\n",
       "      <th>...</th>\n",
       "      <td>...</td>\n",
       "      <td>...</td>\n",
       "      <td>...</td>\n",
       "      <td>...</td>\n",
       "      <td>...</td>\n",
       "      <td>...</td>\n",
       "      <td>...</td>\n",
       "    </tr>\n",
       "    <tr>\n",
       "      <th>16782</th>\n",
       "      <td>55654</td>\n",
       "      <td>0.671801</td>\n",
       "      <td>0.630071</td>\n",
       "      <td>0.674081</td>\n",
       "      <td>0.663704</td>\n",
       "      <td>0.660027</td>\n",
       "      <td>0.659937</td>\n",
       "    </tr>\n",
       "    <tr>\n",
       "      <th>16783</th>\n",
       "      <td>55655</td>\n",
       "      <td>0.113945</td>\n",
       "      <td>0.201043</td>\n",
       "      <td>0.199242</td>\n",
       "      <td>0.231664</td>\n",
       "      <td>0.205583</td>\n",
       "      <td>0.190295</td>\n",
       "    </tr>\n",
       "    <tr>\n",
       "      <th>16784</th>\n",
       "      <td>55656</td>\n",
       "      <td>0.762480</td>\n",
       "      <td>0.720707</td>\n",
       "      <td>0.730283</td>\n",
       "      <td>0.743149</td>\n",
       "      <td>0.738786</td>\n",
       "      <td>0.739081</td>\n",
       "    </tr>\n",
       "    <tr>\n",
       "      <th>16785</th>\n",
       "      <td>55657</td>\n",
       "      <td>0.692533</td>\n",
       "      <td>0.603034</td>\n",
       "      <td>0.634787</td>\n",
       "      <td>0.586707</td>\n",
       "      <td>0.599876</td>\n",
       "      <td>0.623387</td>\n",
       "    </tr>\n",
       "    <tr>\n",
       "      <th>16786</th>\n",
       "      <td>55658</td>\n",
       "      <td>0.384594</td>\n",
       "      <td>0.430259</td>\n",
       "      <td>0.423867</td>\n",
       "      <td>0.453971</td>\n",
       "      <td>0.400601</td>\n",
       "      <td>0.418659</td>\n",
       "    </tr>\n",
       "  </tbody>\n",
       "</table>\n",
       "<p>16787 rows × 7 columns</p>\n",
       "</div>"
      ],
      "text/plain": [
       "       game_id   winner0   winner1   winner2   winner3   winner4    winner\n",
       "0        38872  0.438325  0.518079  0.569683  0.577401  0.505146  0.521727\n",
       "1        38873  0.867941  0.735222  0.701343  0.613010  0.656040  0.714711\n",
       "2        38874  0.434708  0.386884  0.417716  0.436444  0.443957  0.423942\n",
       "3        38875  0.089959  0.125060  0.151980  0.184807  0.142788  0.138919\n",
       "4        38876  0.551667  0.605323  0.619235  0.614321  0.600617  0.598232\n",
       "...        ...       ...       ...       ...       ...       ...       ...\n",
       "16782    55654  0.671801  0.630071  0.674081  0.663704  0.660027  0.659937\n",
       "16783    55655  0.113945  0.201043  0.199242  0.231664  0.205583  0.190295\n",
       "16784    55656  0.762480  0.720707  0.730283  0.743149  0.738786  0.739081\n",
       "16785    55657  0.692533  0.603034  0.634787  0.586707  0.599876  0.623387\n",
       "16786    55658  0.384594  0.430259  0.423867  0.453971  0.400601  0.418659\n",
       "\n",
       "[16787 rows x 7 columns]"
      ]
     },
     "execution_count": 40,
     "metadata": {},
     "output_type": "execute_result"
    }
   ],
   "source": [
    "submit['winner'] = (submit['winner0']+submit['winner1']+submit['winner2']+submit['winner3']+submit['winner4'])/5\n",
    "submit"
   ]
  },
  {
   "cell_type": "code",
   "execution_count": 42,
   "metadata": {},
   "outputs": [
    {
     "data": {
      "text/html": [
       "<div>\n",
       "<style scoped>\n",
       "    .dataframe tbody tr th:only-of-type {\n",
       "        vertical-align: middle;\n",
       "    }\n",
       "\n",
       "    .dataframe tbody tr th {\n",
       "        vertical-align: top;\n",
       "    }\n",
       "\n",
       "    .dataframe thead th {\n",
       "        text-align: right;\n",
       "    }\n",
       "</style>\n",
       "<table border=\"1\" class=\"dataframe\">\n",
       "  <thead>\n",
       "    <tr style=\"text-align: right;\">\n",
       "      <th></th>\n",
       "      <th>game_id</th>\n",
       "      <th>winner</th>\n",
       "    </tr>\n",
       "  </thead>\n",
       "  <tbody>\n",
       "    <tr>\n",
       "      <th>0</th>\n",
       "      <td>38872</td>\n",
       "      <td>0.521727</td>\n",
       "    </tr>\n",
       "    <tr>\n",
       "      <th>1</th>\n",
       "      <td>38873</td>\n",
       "      <td>0.714711</td>\n",
       "    </tr>\n",
       "    <tr>\n",
       "      <th>2</th>\n",
       "      <td>38874</td>\n",
       "      <td>0.423942</td>\n",
       "    </tr>\n",
       "    <tr>\n",
       "      <th>3</th>\n",
       "      <td>38875</td>\n",
       "      <td>0.138919</td>\n",
       "    </tr>\n",
       "    <tr>\n",
       "      <th>4</th>\n",
       "      <td>38876</td>\n",
       "      <td>0.598232</td>\n",
       "    </tr>\n",
       "    <tr>\n",
       "      <th>...</th>\n",
       "      <td>...</td>\n",
       "      <td>...</td>\n",
       "    </tr>\n",
       "    <tr>\n",
       "      <th>16782</th>\n",
       "      <td>55654</td>\n",
       "      <td>0.659937</td>\n",
       "    </tr>\n",
       "    <tr>\n",
       "      <th>16783</th>\n",
       "      <td>55655</td>\n",
       "      <td>0.190295</td>\n",
       "    </tr>\n",
       "    <tr>\n",
       "      <th>16784</th>\n",
       "      <td>55656</td>\n",
       "      <td>0.739081</td>\n",
       "    </tr>\n",
       "    <tr>\n",
       "      <th>16785</th>\n",
       "      <td>55657</td>\n",
       "      <td>0.623387</td>\n",
       "    </tr>\n",
       "    <tr>\n",
       "      <th>16786</th>\n",
       "      <td>55658</td>\n",
       "      <td>0.418659</td>\n",
       "    </tr>\n",
       "  </tbody>\n",
       "</table>\n",
       "<p>16787 rows × 2 columns</p>\n",
       "</div>"
      ],
      "text/plain": [
       "       game_id    winner\n",
       "0        38872  0.521727\n",
       "1        38873  0.714711\n",
       "2        38874  0.423942\n",
       "3        38875  0.138919\n",
       "4        38876  0.598232\n",
       "...        ...       ...\n",
       "16782    55654  0.659937\n",
       "16783    55655  0.190295\n",
       "16784    55656  0.739081\n",
       "16785    55657  0.623387\n",
       "16786    55658  0.418659\n",
       "\n",
       "[16787 rows x 2 columns]"
      ]
     },
     "execution_count": 42,
     "metadata": {},
     "output_type": "execute_result"
    }
   ],
   "source": [
    "submit = submit.drop(['winner0','winner1','winner2','winner3','winner4'], axis=1)\n",
    "submit"
   ]
  },
  {
   "cell_type": "code",
   "execution_count": 44,
   "metadata": {},
   "outputs": [],
   "source": [
    "submit.to_csv('this_is_our_hope.csv',index=False)"
   ]
  },
  {
   "cell_type": "code",
   "execution_count": null,
   "metadata": {},
   "outputs": [],
   "source": []
  }
 ],
 "metadata": {
  "accelerator": "GPU",
  "colab": {
   "collapsed_sections": [],
   "machine_shape": "hm",
   "name": "dacon_202003.ipynb",
   "provenance": [],
   "toc_visible": true
  },
  "kernelspec": {
   "display_name": "Python 3",
   "language": "python",
   "name": "python3"
  },
  "language_info": {
   "codemirror_mode": {
    "name": "ipython",
    "version": 3
   },
   "file_extension": ".py",
   "mimetype": "text/x-python",
   "name": "python",
   "nbconvert_exporter": "python",
   "pygments_lexer": "ipython3",
   "version": "3.6.5"
  }
 },
 "nbformat": 4,
 "nbformat_minor": 1
}
