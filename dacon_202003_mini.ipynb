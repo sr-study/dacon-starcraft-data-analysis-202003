{
  "nbformat": 4,
  "nbformat_minor": 0,
  "metadata": {
    "colab": {
      "name": "dacon_202003_mini.ipynb",
      "provenance": [],
      "collapsed_sections": [],
      "toc_visible": true,
      "machine_shape": "hm"
    },
    "kernelspec": {
      "name": "python3",
      "display_name": "Python 3"
    },
    "accelerator": "GPU",
    "widgets": {
      "application/vnd.jupyter.widget-state+json": {
        "332887399e48423f8ef3ecaca4d6b9d8": {
          "model_module": "@jupyter-widgets/controls",
          "model_name": "HBoxModel",
          "state": {
            "_view_name": "HBoxView",
            "_dom_classes": [],
            "_model_name": "HBoxModel",
            "_view_module": "@jupyter-widgets/controls",
            "_model_module_version": "1.5.0",
            "_view_count": null,
            "_view_module_version": "1.5.0",
            "box_style": "",
            "layout": "IPY_MODEL_e983742dda9743c4aef39e862efee75e",
            "_model_module": "@jupyter-widgets/controls",
            "children": [
              "IPY_MODEL_800649ca35f847c59390dc2d438832d4",
              "IPY_MODEL_1181892474a64eef90a0d8ae73544948"
            ]
          }
        },
        "e983742dda9743c4aef39e862efee75e": {
          "model_module": "@jupyter-widgets/base",
          "model_name": "LayoutModel",
          "state": {
            "_view_name": "LayoutView",
            "grid_template_rows": null,
            "right": null,
            "justify_content": null,
            "_view_module": "@jupyter-widgets/base",
            "overflow": null,
            "_model_module_version": "1.2.0",
            "_view_count": null,
            "flex_flow": null,
            "width": null,
            "min_width": null,
            "border": null,
            "align_items": null,
            "bottom": null,
            "_model_module": "@jupyter-widgets/base",
            "top": null,
            "grid_column": null,
            "overflow_y": null,
            "overflow_x": null,
            "grid_auto_flow": null,
            "grid_area": null,
            "grid_template_columns": null,
            "flex": null,
            "_model_name": "LayoutModel",
            "justify_items": null,
            "grid_row": null,
            "max_height": null,
            "align_content": null,
            "visibility": null,
            "align_self": null,
            "height": null,
            "min_height": null,
            "padding": null,
            "grid_auto_rows": null,
            "grid_gap": null,
            "max_width": null,
            "order": null,
            "_view_module_version": "1.2.0",
            "grid_template_areas": null,
            "object_position": null,
            "object_fit": null,
            "grid_auto_columns": null,
            "margin": null,
            "display": null,
            "left": null
          }
        },
        "800649ca35f847c59390dc2d438832d4": {
          "model_module": "@jupyter-widgets/controls",
          "model_name": "FloatProgressModel",
          "state": {
            "_view_name": "ProgressView",
            "style": "IPY_MODEL_b7dd98f469084fbd909f0fcb1a0b657e",
            "_dom_classes": [],
            "description": "100%",
            "_model_name": "FloatProgressModel",
            "bar_style": "success",
            "max": 67091776,
            "_view_module": "@jupyter-widgets/controls",
            "_model_module_version": "1.5.0",
            "value": 67091776,
            "_view_count": null,
            "_view_module_version": "1.5.0",
            "orientation": "horizontal",
            "min": 0,
            "description_tooltip": null,
            "_model_module": "@jupyter-widgets/controls",
            "layout": "IPY_MODEL_5465fe1ff2814065a1d9163813f5ff7f"
          }
        },
        "1181892474a64eef90a0d8ae73544948": {
          "model_module": "@jupyter-widgets/controls",
          "model_name": "HTMLModel",
          "state": {
            "_view_name": "HTMLView",
            "style": "IPY_MODEL_936a7bac28154b8a90162c9693dd3329",
            "_dom_classes": [],
            "description": "",
            "_model_name": "HTMLModel",
            "placeholder": "​",
            "_view_module": "@jupyter-widgets/controls",
            "_model_module_version": "1.5.0",
            "value": " 67091776/67091776 [03:00&lt;00:00, 372288.47it/s]",
            "_view_count": null,
            "_view_module_version": "1.5.0",
            "description_tooltip": null,
            "_model_module": "@jupyter-widgets/controls",
            "layout": "IPY_MODEL_af680e4200914d4eb5b6a5ee82f76b93"
          }
        },
        "b7dd98f469084fbd909f0fcb1a0b657e": {
          "model_module": "@jupyter-widgets/controls",
          "model_name": "ProgressStyleModel",
          "state": {
            "_view_name": "StyleView",
            "_model_name": "ProgressStyleModel",
            "description_width": "initial",
            "_view_module": "@jupyter-widgets/base",
            "_model_module_version": "1.5.0",
            "_view_count": null,
            "_view_module_version": "1.2.0",
            "bar_color": null,
            "_model_module": "@jupyter-widgets/controls"
          }
        },
        "5465fe1ff2814065a1d9163813f5ff7f": {
          "model_module": "@jupyter-widgets/base",
          "model_name": "LayoutModel",
          "state": {
            "_view_name": "LayoutView",
            "grid_template_rows": null,
            "right": null,
            "justify_content": null,
            "_view_module": "@jupyter-widgets/base",
            "overflow": null,
            "_model_module_version": "1.2.0",
            "_view_count": null,
            "flex_flow": null,
            "width": null,
            "min_width": null,
            "border": null,
            "align_items": null,
            "bottom": null,
            "_model_module": "@jupyter-widgets/base",
            "top": null,
            "grid_column": null,
            "overflow_y": null,
            "overflow_x": null,
            "grid_auto_flow": null,
            "grid_area": null,
            "grid_template_columns": null,
            "flex": null,
            "_model_name": "LayoutModel",
            "justify_items": null,
            "grid_row": null,
            "max_height": null,
            "align_content": null,
            "visibility": null,
            "align_self": null,
            "height": null,
            "min_height": null,
            "padding": null,
            "grid_auto_rows": null,
            "grid_gap": null,
            "max_width": null,
            "order": null,
            "_view_module_version": "1.2.0",
            "grid_template_areas": null,
            "object_position": null,
            "object_fit": null,
            "grid_auto_columns": null,
            "margin": null,
            "display": null,
            "left": null
          }
        },
        "936a7bac28154b8a90162c9693dd3329": {
          "model_module": "@jupyter-widgets/controls",
          "model_name": "DescriptionStyleModel",
          "state": {
            "_view_name": "StyleView",
            "_model_name": "DescriptionStyleModel",
            "description_width": "",
            "_view_module": "@jupyter-widgets/base",
            "_model_module_version": "1.5.0",
            "_view_count": null,
            "_view_module_version": "1.2.0",
            "_model_module": "@jupyter-widgets/controls"
          }
        },
        "af680e4200914d4eb5b6a5ee82f76b93": {
          "model_module": "@jupyter-widgets/base",
          "model_name": "LayoutModel",
          "state": {
            "_view_name": "LayoutView",
            "grid_template_rows": null,
            "right": null,
            "justify_content": null,
            "_view_module": "@jupyter-widgets/base",
            "overflow": null,
            "_model_module_version": "1.2.0",
            "_view_count": null,
            "flex_flow": null,
            "width": null,
            "min_width": null,
            "border": null,
            "align_items": null,
            "bottom": null,
            "_model_module": "@jupyter-widgets/base",
            "top": null,
            "grid_column": null,
            "overflow_y": null,
            "overflow_x": null,
            "grid_auto_flow": null,
            "grid_area": null,
            "grid_template_columns": null,
            "flex": null,
            "_model_name": "LayoutModel",
            "justify_items": null,
            "grid_row": null,
            "max_height": null,
            "align_content": null,
            "visibility": null,
            "align_self": null,
            "height": null,
            "min_height": null,
            "padding": null,
            "grid_auto_rows": null,
            "grid_gap": null,
            "max_width": null,
            "order": null,
            "_view_module_version": "1.2.0",
            "grid_template_areas": null,
            "object_position": null,
            "object_fit": null,
            "grid_auto_columns": null,
            "margin": null,
            "display": null,
            "left": null
          }
        },
        "d938c328d11f4f2e9fd4fa5801fca9c9": {
          "model_module": "@jupyter-widgets/controls",
          "model_name": "HBoxModel",
          "state": {
            "_view_name": "HBoxView",
            "_dom_classes": [],
            "_model_name": "HBoxModel",
            "_view_module": "@jupyter-widgets/controls",
            "_model_module_version": "1.5.0",
            "_view_count": null,
            "_view_module_version": "1.5.0",
            "box_style": "",
            "layout": "IPY_MODEL_7087d4cdeaa248bca21bc715ef8318e3",
            "_model_module": "@jupyter-widgets/controls",
            "children": [
              "IPY_MODEL_a38e33de611c47b39512dbb6813383ac",
              "IPY_MODEL_74f29e3d12fe4df482fa1a8f7fc496e8"
            ]
          }
        },
        "7087d4cdeaa248bca21bc715ef8318e3": {
          "model_module": "@jupyter-widgets/base",
          "model_name": "LayoutModel",
          "state": {
            "_view_name": "LayoutView",
            "grid_template_rows": null,
            "right": null,
            "justify_content": null,
            "_view_module": "@jupyter-widgets/base",
            "overflow": null,
            "_model_module_version": "1.2.0",
            "_view_count": null,
            "flex_flow": null,
            "width": null,
            "min_width": null,
            "border": null,
            "align_items": null,
            "bottom": null,
            "_model_module": "@jupyter-widgets/base",
            "top": null,
            "grid_column": null,
            "overflow_y": null,
            "overflow_x": null,
            "grid_auto_flow": null,
            "grid_area": null,
            "grid_template_columns": null,
            "flex": null,
            "_model_name": "LayoutModel",
            "justify_items": null,
            "grid_row": null,
            "max_height": null,
            "align_content": null,
            "visibility": null,
            "align_self": null,
            "height": null,
            "min_height": null,
            "padding": null,
            "grid_auto_rows": null,
            "grid_gap": null,
            "max_width": null,
            "order": null,
            "_view_module_version": "1.2.0",
            "grid_template_areas": null,
            "object_position": null,
            "object_fit": null,
            "grid_auto_columns": null,
            "margin": null,
            "display": null,
            "left": null
          }
        },
        "a38e33de611c47b39512dbb6813383ac": {
          "model_module": "@jupyter-widgets/controls",
          "model_name": "FloatProgressModel",
          "state": {
            "_view_name": "ProgressView",
            "style": "IPY_MODEL_7e461dc5e91e4ff9923ca005e01e4a96",
            "_dom_classes": [],
            "description": "100%",
            "_model_name": "FloatProgressModel",
            "bar_style": "success",
            "max": 520835,
            "_view_module": "@jupyter-widgets/controls",
            "_model_module_version": "1.5.0",
            "value": 520835,
            "_view_count": null,
            "_view_module_version": "1.5.0",
            "orientation": "horizontal",
            "min": 0,
            "description_tooltip": null,
            "_model_module": "@jupyter-widgets/controls",
            "layout": "IPY_MODEL_89e6c3df504345bf828955956d991392"
          }
        },
        "74f29e3d12fe4df482fa1a8f7fc496e8": {
          "model_module": "@jupyter-widgets/controls",
          "model_name": "HTMLModel",
          "state": {
            "_view_name": "HTMLView",
            "style": "IPY_MODEL_b54461dcf30140d694f9613402e7cb55",
            "_dom_classes": [],
            "description": "",
            "_model_name": "HTMLModel",
            "placeholder": "​",
            "_view_module": "@jupyter-widgets/controls",
            "_model_module_version": "1.5.0",
            "value": " 520835/520835 [00:01&lt;00:00, 338807.19it/s]",
            "_view_count": null,
            "_view_module_version": "1.5.0",
            "description_tooltip": null,
            "_model_module": "@jupyter-widgets/controls",
            "layout": "IPY_MODEL_e95e04d5dfba4cb5ab5ab6dc5b8e2912"
          }
        },
        "7e461dc5e91e4ff9923ca005e01e4a96": {
          "model_module": "@jupyter-widgets/controls",
          "model_name": "ProgressStyleModel",
          "state": {
            "_view_name": "StyleView",
            "_model_name": "ProgressStyleModel",
            "description_width": "initial",
            "_view_module": "@jupyter-widgets/base",
            "_model_module_version": "1.5.0",
            "_view_count": null,
            "_view_module_version": "1.2.0",
            "bar_color": null,
            "_model_module": "@jupyter-widgets/controls"
          }
        },
        "89e6c3df504345bf828955956d991392": {
          "model_module": "@jupyter-widgets/base",
          "model_name": "LayoutModel",
          "state": {
            "_view_name": "LayoutView",
            "grid_template_rows": null,
            "right": null,
            "justify_content": null,
            "_view_module": "@jupyter-widgets/base",
            "overflow": null,
            "_model_module_version": "1.2.0",
            "_view_count": null,
            "flex_flow": null,
            "width": null,
            "min_width": null,
            "border": null,
            "align_items": null,
            "bottom": null,
            "_model_module": "@jupyter-widgets/base",
            "top": null,
            "grid_column": null,
            "overflow_y": null,
            "overflow_x": null,
            "grid_auto_flow": null,
            "grid_area": null,
            "grid_template_columns": null,
            "flex": null,
            "_model_name": "LayoutModel",
            "justify_items": null,
            "grid_row": null,
            "max_height": null,
            "align_content": null,
            "visibility": null,
            "align_self": null,
            "height": null,
            "min_height": null,
            "padding": null,
            "grid_auto_rows": null,
            "grid_gap": null,
            "max_width": null,
            "order": null,
            "_view_module_version": "1.2.0",
            "grid_template_areas": null,
            "object_position": null,
            "object_fit": null,
            "grid_auto_columns": null,
            "margin": null,
            "display": null,
            "left": null
          }
        },
        "b54461dcf30140d694f9613402e7cb55": {
          "model_module": "@jupyter-widgets/controls",
          "model_name": "DescriptionStyleModel",
          "state": {
            "_view_name": "StyleView",
            "_model_name": "DescriptionStyleModel",
            "description_width": "",
            "_view_module": "@jupyter-widgets/base",
            "_model_module_version": "1.5.0",
            "_view_count": null,
            "_view_module_version": "1.2.0",
            "_model_module": "@jupyter-widgets/controls"
          }
        },
        "e95e04d5dfba4cb5ab5ab6dc5b8e2912": {
          "model_module": "@jupyter-widgets/base",
          "model_name": "LayoutModel",
          "state": {
            "_view_name": "LayoutView",
            "grid_template_rows": null,
            "right": null,
            "justify_content": null,
            "_view_module": "@jupyter-widgets/base",
            "overflow": null,
            "_model_module_version": "1.2.0",
            "_view_count": null,
            "flex_flow": null,
            "width": null,
            "min_width": null,
            "border": null,
            "align_items": null,
            "bottom": null,
            "_model_module": "@jupyter-widgets/base",
            "top": null,
            "grid_column": null,
            "overflow_y": null,
            "overflow_x": null,
            "grid_auto_flow": null,
            "grid_area": null,
            "grid_template_columns": null,
            "flex": null,
            "_model_name": "LayoutModel",
            "justify_items": null,
            "grid_row": null,
            "max_height": null,
            "align_content": null,
            "visibility": null,
            "align_self": null,
            "height": null,
            "min_height": null,
            "padding": null,
            "grid_auto_rows": null,
            "grid_gap": null,
            "max_width": null,
            "order": null,
            "_view_module_version": "1.2.0",
            "grid_template_areas": null,
            "object_position": null,
            "object_fit": null,
            "grid_auto_columns": null,
            "margin": null,
            "display": null,
            "left": null
          }
        },
        "1e7cc361ec824fc7969431a7931f8539": {
          "model_module": "@jupyter-widgets/controls",
          "model_name": "HBoxModel",
          "state": {
            "_view_name": "HBoxView",
            "_dom_classes": [],
            "_model_name": "HBoxModel",
            "_view_module": "@jupyter-widgets/controls",
            "_model_module_version": "1.5.0",
            "_view_count": null,
            "_view_module_version": "1.5.0",
            "box_style": "",
            "layout": "IPY_MODEL_2375d3d7dce24f4ba489595d9e50bf08",
            "_model_module": "@jupyter-widgets/controls",
            "children": [
              "IPY_MODEL_69250ab5d9f94b3cbd6fc161e1262207",
              "IPY_MODEL_357e5bbe0a094595bc04519c0bcb8834"
            ]
          }
        },
        "2375d3d7dce24f4ba489595d9e50bf08": {
          "model_module": "@jupyter-widgets/base",
          "model_name": "LayoutModel",
          "state": {
            "_view_name": "LayoutView",
            "grid_template_rows": null,
            "right": null,
            "justify_content": null,
            "_view_module": "@jupyter-widgets/base",
            "overflow": null,
            "_model_module_version": "1.2.0",
            "_view_count": null,
            "flex_flow": null,
            "width": null,
            "min_width": null,
            "border": null,
            "align_items": null,
            "bottom": null,
            "_model_module": "@jupyter-widgets/base",
            "top": null,
            "grid_column": null,
            "overflow_y": null,
            "overflow_x": null,
            "grid_auto_flow": null,
            "grid_area": null,
            "grid_template_columns": null,
            "flex": null,
            "_model_name": "LayoutModel",
            "justify_items": null,
            "grid_row": null,
            "max_height": null,
            "align_content": null,
            "visibility": null,
            "align_self": null,
            "height": null,
            "min_height": null,
            "padding": null,
            "grid_auto_rows": null,
            "grid_gap": null,
            "max_width": null,
            "order": null,
            "_view_module_version": "1.2.0",
            "grid_template_areas": null,
            "object_position": null,
            "object_fit": null,
            "grid_auto_columns": null,
            "margin": null,
            "display": null,
            "left": null
          }
        },
        "69250ab5d9f94b3cbd6fc161e1262207": {
          "model_module": "@jupyter-widgets/controls",
          "model_name": "FloatProgressModel",
          "state": {
            "_view_name": "ProgressView",
            "style": "IPY_MODEL_b3a2ff8cfcd147938b74251412e28457",
            "_dom_classes": [],
            "description": "100%",
            "_model_name": "FloatProgressModel",
            "bar_style": "success",
            "max": 520835,
            "_view_module": "@jupyter-widgets/controls",
            "_model_module_version": "1.5.0",
            "value": 520835,
            "_view_count": null,
            "_view_module_version": "1.5.0",
            "orientation": "horizontal",
            "min": 0,
            "description_tooltip": null,
            "_model_module": "@jupyter-widgets/controls",
            "layout": "IPY_MODEL_0f503eb1fbae40e1a66d3285b33ae052"
          }
        },
        "357e5bbe0a094595bc04519c0bcb8834": {
          "model_module": "@jupyter-widgets/controls",
          "model_name": "HTMLModel",
          "state": {
            "_view_name": "HTMLView",
            "style": "IPY_MODEL_0945967a61b24217a9bccbe752ed11e3",
            "_dom_classes": [],
            "description": "",
            "_model_name": "HTMLModel",
            "placeholder": "​",
            "_view_module": "@jupyter-widgets/controls",
            "_model_module_version": "1.5.0",
            "value": " 520835/520835 [00:01&lt;00:00, 337800.87it/s]",
            "_view_count": null,
            "_view_module_version": "1.5.0",
            "description_tooltip": null,
            "_model_module": "@jupyter-widgets/controls",
            "layout": "IPY_MODEL_b8dafface5a5402e90f72a68f5ab680b"
          }
        },
        "b3a2ff8cfcd147938b74251412e28457": {
          "model_module": "@jupyter-widgets/controls",
          "model_name": "ProgressStyleModel",
          "state": {
            "_view_name": "StyleView",
            "_model_name": "ProgressStyleModel",
            "description_width": "initial",
            "_view_module": "@jupyter-widgets/base",
            "_model_module_version": "1.5.0",
            "_view_count": null,
            "_view_module_version": "1.2.0",
            "bar_color": null,
            "_model_module": "@jupyter-widgets/controls"
          }
        },
        "0f503eb1fbae40e1a66d3285b33ae052": {
          "model_module": "@jupyter-widgets/base",
          "model_name": "LayoutModel",
          "state": {
            "_view_name": "LayoutView",
            "grid_template_rows": null,
            "right": null,
            "justify_content": null,
            "_view_module": "@jupyter-widgets/base",
            "overflow": null,
            "_model_module_version": "1.2.0",
            "_view_count": null,
            "flex_flow": null,
            "width": null,
            "min_width": null,
            "border": null,
            "align_items": null,
            "bottom": null,
            "_model_module": "@jupyter-widgets/base",
            "top": null,
            "grid_column": null,
            "overflow_y": null,
            "overflow_x": null,
            "grid_auto_flow": null,
            "grid_area": null,
            "grid_template_columns": null,
            "flex": null,
            "_model_name": "LayoutModel",
            "justify_items": null,
            "grid_row": null,
            "max_height": null,
            "align_content": null,
            "visibility": null,
            "align_self": null,
            "height": null,
            "min_height": null,
            "padding": null,
            "grid_auto_rows": null,
            "grid_gap": null,
            "max_width": null,
            "order": null,
            "_view_module_version": "1.2.0",
            "grid_template_areas": null,
            "object_position": null,
            "object_fit": null,
            "grid_auto_columns": null,
            "margin": null,
            "display": null,
            "left": null
          }
        },
        "0945967a61b24217a9bccbe752ed11e3": {
          "model_module": "@jupyter-widgets/controls",
          "model_name": "DescriptionStyleModel",
          "state": {
            "_view_name": "StyleView",
            "_model_name": "DescriptionStyleModel",
            "description_width": "",
            "_view_module": "@jupyter-widgets/base",
            "_model_module_version": "1.5.0",
            "_view_count": null,
            "_view_module_version": "1.2.0",
            "_model_module": "@jupyter-widgets/controls"
          }
        },
        "b8dafface5a5402e90f72a68f5ab680b": {
          "model_module": "@jupyter-widgets/base",
          "model_name": "LayoutModel",
          "state": {
            "_view_name": "LayoutView",
            "grid_template_rows": null,
            "right": null,
            "justify_content": null,
            "_view_module": "@jupyter-widgets/base",
            "overflow": null,
            "_model_module_version": "1.2.0",
            "_view_count": null,
            "flex_flow": null,
            "width": null,
            "min_width": null,
            "border": null,
            "align_items": null,
            "bottom": null,
            "_model_module": "@jupyter-widgets/base",
            "top": null,
            "grid_column": null,
            "overflow_y": null,
            "overflow_x": null,
            "grid_auto_flow": null,
            "grid_area": null,
            "grid_template_columns": null,
            "flex": null,
            "_model_name": "LayoutModel",
            "justify_items": null,
            "grid_row": null,
            "max_height": null,
            "align_content": null,
            "visibility": null,
            "align_self": null,
            "height": null,
            "min_height": null,
            "padding": null,
            "grid_auto_rows": null,
            "grid_gap": null,
            "max_width": null,
            "order": null,
            "_view_module_version": "1.2.0",
            "grid_template_areas": null,
            "object_position": null,
            "object_fit": null,
            "grid_auto_columns": null,
            "margin": null,
            "display": null,
            "left": null
          }
        }
      }
    }
  },
  "cells": [
    {
      "cell_type": "markdown",
      "metadata": {
        "colab_type": "text",
        "id": "gGqxeHiVnvQz"
      },
      "source": [
        "# 준비"
      ]
    },
    {
      "cell_type": "code",
      "metadata": {
        "colab_type": "code",
        "id": "DCAJJsHEgdmB",
        "colab": {}
      },
      "source": [
        "import sys\n",
        "IN_COLAB = 'google.colab' in sys.modules"
      ],
      "execution_count": 0,
      "outputs": []
    },
    {
      "cell_type": "markdown",
      "metadata": {
        "colab_type": "text",
        "id": "TuckFLnWoURA"
      },
      "source": [
        "## 패키지 설치"
      ]
    },
    {
      "cell_type": "code",
      "metadata": {
        "id": "h2vtGE-6QkuK",
        "colab_type": "code",
        "outputId": "fbcfb2d6-a7b3-4cf1-e08d-dd1c6cc8ebf9",
        "colab": {
          "base_uri": "https://localhost:8080/",
          "height": 210
        }
      },
      "source": [
        "!pip install pandas numpy tqdm==4.43.0 bayesian-optimization lightgbm"
      ],
      "execution_count": 2,
      "outputs": [
        {
          "output_type": "stream",
          "text": [
            "Requirement already satisfied: pandas in /usr/local/lib/python3.6/dist-packages (0.25.3)\n",
            "Requirement already satisfied: numpy in /usr/local/lib/python3.6/dist-packages (1.17.5)\n",
            "Requirement already satisfied: tqdm==4.43.0 in /usr/local/lib/python3.6/dist-packages (4.43.0)\n",
            "Requirement already satisfied: bayesian-optimization in /usr/local/lib/python3.6/dist-packages (1.1.0)\n",
            "Requirement already satisfied: lightgbm in /usr/local/lib/python3.6/dist-packages (2.2.3)\n",
            "Requirement already satisfied: pytz>=2017.2 in /usr/local/lib/python3.6/dist-packages (from pandas) (2018.9)\n",
            "Requirement already satisfied: python-dateutil>=2.6.1 in /usr/local/lib/python3.6/dist-packages (from pandas) (2.6.1)\n",
            "Requirement already satisfied: scikit-learn>=0.18.0 in /usr/local/lib/python3.6/dist-packages (from bayesian-optimization) (0.22.1)\n",
            "Requirement already satisfied: scipy>=0.14.0 in /usr/local/lib/python3.6/dist-packages (from bayesian-optimization) (1.4.1)\n",
            "Requirement already satisfied: six>=1.5 in /usr/local/lib/python3.6/dist-packages (from python-dateutil>=2.6.1->pandas) (1.12.0)\n",
            "Requirement already satisfied: joblib>=0.11 in /usr/local/lib/python3.6/dist-packages (from scikit-learn>=0.18.0->bayesian-optimization) (0.14.1)\n"
          ],
          "name": "stdout"
        }
      ]
    },
    {
      "cell_type": "markdown",
      "metadata": {
        "colab_type": "text",
        "id": "EF-j7I4UodL2"
      },
      "source": [
        "## 라이브러리 임포트"
      ]
    },
    {
      "cell_type": "code",
      "metadata": {
        "colab_type": "code",
        "id": "fqYwCrpcn0lG",
        "colab": {}
      },
      "source": [
        "import pandas as pd                         # 데이터 분석 라이브러리\n",
        "import numpy as np                          # 계산 라이브러리\n",
        "from tqdm.auto import tqdm                  # 진행바\n",
        "from sklearn.metrics import roc_auc_score   # AUC 스코어 계산\n",
        "from sklearn.model_selection import KFold   # K-fold CV    \n",
        "from bayes_opt import BayesianOptimization  # 베이지안 최적화 라이브러리  \n",
        "from functools import partial               # 함수 변수 고정\n",
        "import lightgbm as lgb                      # LightGBM 라이브러리\n",
        "import gc\n",
        "import warnings                             \n",
        "warnings.filterwarnings(\"ignore\")           # 경고 문구 미표시\n",
        "tqdm.pandas()"
      ],
      "execution_count": 0,
      "outputs": []
    },
    {
      "cell_type": "markdown",
      "metadata": {
        "id": "A9SDk87KLlhX",
        "colab_type": "text"
      },
      "source": [
        "## 상수 정의"
      ]
    },
    {
      "cell_type": "code",
      "metadata": {
        "id": "NdTp5JCFLh3X",
        "colab_type": "code",
        "colab": {}
      },
      "source": [
        "DATA_DIR = 'data'"
      ],
      "execution_count": 0,
      "outputs": []
    },
    {
      "cell_type": "markdown",
      "metadata": {
        "id": "Py6Np6QJLk4X",
        "colab_type": "text"
      },
      "source": [
        "## Colab 설정"
      ]
    },
    {
      "cell_type": "code",
      "metadata": {
        "id": "-DUVgdgBMrzD",
        "colab_type": "code",
        "outputId": "01e2f8d0-f33e-4067-ad3e-4720b407c121",
        "colab": {
          "base_uri": "https://localhost:8080/",
          "height": 222
        }
      },
      "source": [
        "if IN_COLAB:\n",
        "    DRIVE_DIR = '/content/drive'\n",
        "    from google.colab import drive\n",
        "    drive.mount(DRIVE_DIR)\n",
        "\n",
        "    import os\n",
        "    os.symlink(f'{DRIVE_DIR}/My Drive/data', DATA_DIR)"
      ],
      "execution_count": 5,
      "outputs": [
        {
          "output_type": "stream",
          "text": [
            "Drive already mounted at /content/drive; to attempt to forcibly remount, call drive.mount(\"/content/drive\", force_remount=True).\n"
          ],
          "name": "stdout"
        },
        {
          "output_type": "error",
          "ename": "FileExistsError",
          "evalue": "ignored",
          "traceback": [
            "\u001b[0;31m---------------------------------------------------------------------------\u001b[0m",
            "\u001b[0;31mFileExistsError\u001b[0m                           Traceback (most recent call last)",
            "\u001b[0;32m<ipython-input-5-52c84b822cb5>\u001b[0m in \u001b[0;36m<module>\u001b[0;34m()\u001b[0m\n\u001b[1;32m      5\u001b[0m \u001b[0;34m\u001b[0m\u001b[0m\n\u001b[1;32m      6\u001b[0m     \u001b[0;32mimport\u001b[0m \u001b[0mos\u001b[0m\u001b[0;34m\u001b[0m\u001b[0;34m\u001b[0m\u001b[0m\n\u001b[0;32m----> 7\u001b[0;31m     \u001b[0mos\u001b[0m\u001b[0;34m.\u001b[0m\u001b[0msymlink\u001b[0m\u001b[0;34m(\u001b[0m\u001b[0;34mf'{DRIVE_DIR}/My Drive/data'\u001b[0m\u001b[0;34m,\u001b[0m \u001b[0mDATA_DIR\u001b[0m\u001b[0;34m)\u001b[0m\u001b[0;34m\u001b[0m\u001b[0;34m\u001b[0m\u001b[0m\n\u001b[0m",
            "\u001b[0;31mFileExistsError\u001b[0m: [Errno 17] File exists: '/content/drive/My Drive/data' -> 'data'"
          ]
        }
      ]
    },
    {
      "cell_type": "markdown",
      "metadata": {
        "colab_type": "text",
        "id": "Xfisi3TQn1aT"
      },
      "source": [
        "# 데이터 샘플링"
      ]
    },
    {
      "cell_type": "code",
      "metadata": {
        "id": "BknskNxLQkRP",
        "colab_type": "code",
        "colab": {}
      },
      "source": [
        "train.to_feather('data/train.feather')"
      ],
      "execution_count": 0,
      "outputs": []
    },
    {
      "cell_type": "code",
      "metadata": {
        "id": "KKHWbWvfJPt6",
        "colab_type": "code",
        "colab": {}
      },
      "source": [
        "train = pd.read_csv('data/train.csv')"
      ],
      "execution_count": 0,
      "outputs": []
    },
    {
      "cell_type": "code",
      "metadata": {
        "id": "xq40EI0ZVaCo",
        "colab_type": "code",
        "colab": {}
      },
      "source": [
        "train = pd.read_feather('data/train.feather')"
      ],
      "execution_count": 0,
      "outputs": []
    },
    {
      "cell_type": "code",
      "metadata": {
        "id": "7FZxv4-Iqrfd",
        "colab_type": "code",
        "outputId": "f0f42795-2f3b-48a7-b9c6-d3e773a62fd5",
        "colab": {
          "base_uri": "https://localhost:8080/",
          "height": 195
        }
      },
      "source": [
        "train.head()"
      ],
      "execution_count": 0,
      "outputs": [
        {
          "output_type": "execute_result",
          "data": {
            "text/html": [
              "<div>\n",
              "<style scoped>\n",
              "    .dataframe tbody tr th:only-of-type {\n",
              "        vertical-align: middle;\n",
              "    }\n",
              "\n",
              "    .dataframe tbody tr th {\n",
              "        vertical-align: top;\n",
              "    }\n",
              "\n",
              "    .dataframe thead th {\n",
              "        text-align: right;\n",
              "    }\n",
              "</style>\n",
              "<table border=\"1\" class=\"dataframe\">\n",
              "  <thead>\n",
              "    <tr style=\"text-align: right;\">\n",
              "      <th></th>\n",
              "      <th>game_id</th>\n",
              "      <th>winner</th>\n",
              "      <th>time</th>\n",
              "      <th>player</th>\n",
              "      <th>species</th>\n",
              "      <th>event</th>\n",
              "      <th>event_contents</th>\n",
              "    </tr>\n",
              "  </thead>\n",
              "  <tbody>\n",
              "    <tr>\n",
              "      <th>0</th>\n",
              "      <td>0</td>\n",
              "      <td>1</td>\n",
              "      <td>0.00</td>\n",
              "      <td>0</td>\n",
              "      <td>T</td>\n",
              "      <td>Camera</td>\n",
              "      <td>at (145.25, 21.5078125)</td>\n",
              "    </tr>\n",
              "    <tr>\n",
              "      <th>1</th>\n",
              "      <td>0</td>\n",
              "      <td>1</td>\n",
              "      <td>0.00</td>\n",
              "      <td>1</td>\n",
              "      <td>T</td>\n",
              "      <td>Camera</td>\n",
              "      <td>at (22.75, 147.0078125)</td>\n",
              "    </tr>\n",
              "    <tr>\n",
              "      <th>2</th>\n",
              "      <td>0</td>\n",
              "      <td>1</td>\n",
              "      <td>0.02</td>\n",
              "      <td>0</td>\n",
              "      <td>T</td>\n",
              "      <td>Selection</td>\n",
              "      <td>['OrbitalCommand [3080001]']</td>\n",
              "    </tr>\n",
              "    <tr>\n",
              "      <th>3</th>\n",
              "      <td>0</td>\n",
              "      <td>1</td>\n",
              "      <td>0.02</td>\n",
              "      <td>0</td>\n",
              "      <td>T</td>\n",
              "      <td>Ability</td>\n",
              "      <td>(1360) - TrainSCV</td>\n",
              "    </tr>\n",
              "    <tr>\n",
              "      <th>4</th>\n",
              "      <td>0</td>\n",
              "      <td>1</td>\n",
              "      <td>0.14</td>\n",
              "      <td>0</td>\n",
              "      <td>T</td>\n",
              "      <td>Camera</td>\n",
              "      <td>at (142.99609375, 24.50390625)</td>\n",
              "    </tr>\n",
              "  </tbody>\n",
              "</table>\n",
              "</div>"
            ],
            "text/plain": [
              "   game_id  winner  time  ...  species      event                  event_contents\n",
              "0        0       1  0.00  ...        T     Camera         at (145.25, 21.5078125)\n",
              "1        0       1  0.00  ...        T     Camera         at (22.75, 147.0078125)\n",
              "2        0       1  0.02  ...        T  Selection    ['OrbitalCommand [3080001]']\n",
              "3        0       1  0.02  ...        T    Ability               (1360) - TrainSCV\n",
              "4        0       1  0.14  ...        T     Camera  at (142.99609375, 24.50390625)\n",
              "\n",
              "[5 rows x 7 columns]"
            ]
          },
          "metadata": {
            "tags": []
          },
          "execution_count": 7
        }
      ]
    },
    {
      "cell_type": "code",
      "metadata": {
        "id": "PAhyVcjjVPBy",
        "colab_type": "code",
        "outputId": "cdcec283-51c2-48bb-f494-624b8d605f28",
        "colab": {
          "base_uri": "https://localhost:8080/",
          "height": 34
        }
      },
      "source": [
        "train.shape"
      ],
      "execution_count": 0,
      "outputs": [
        {
          "output_type": "execute_result",
          "data": {
            "text/plain": [
              "(67091776, 7)"
            ]
          },
          "metadata": {
            "tags": []
          },
          "execution_count": 44
        }
      ]
    },
    {
      "cell_type": "code",
      "metadata": {
        "id": "yRBLF2smW-sX",
        "colab_type": "code",
        "outputId": "06becaae-0925-4b41-bfb6-19329c1e3444",
        "colab": {
          "base_uri": "https://localhost:8080/",
          "height": 34
        }
      },
      "source": [
        "len(train['game_id'].unique())"
      ],
      "execution_count": 0,
      "outputs": [
        {
          "output_type": "execute_result",
          "data": {
            "text/plain": [
              "38872"
            ]
          },
          "metadata": {
            "tags": []
          },
          "execution_count": 46
        }
      ]
    },
    {
      "cell_type": "code",
      "metadata": {
        "id": "CUyrN0X0mZZL",
        "colab_type": "code",
        "colab": {}
      },
      "source": [
        "def sample_data(df, n_games, seed=None):\n",
        "    if seed is not None:\n",
        "        np.random.seed(seed)\n",
        "\n",
        "    game_ids = df['game_id'].unique()\n",
        "    sampled_game_ids = np.random.choice(game_ids, size=n_games, replace=False)\n",
        "\n",
        "    return df[df['game_id'].isin(sampled_game_ids)]"
      ],
      "execution_count": 0,
      "outputs": []
    },
    {
      "cell_type": "code",
      "metadata": {
        "id": "M8RuFW-enI4M",
        "colab_type": "code",
        "colab": {}
      },
      "source": [
        "sampled_train = sample_data(train, n_games=300, seed=0)"
      ],
      "execution_count": 0,
      "outputs": []
    },
    {
      "cell_type": "code",
      "metadata": {
        "id": "aCWw58Ucrhd1",
        "colab_type": "code",
        "colab": {}
      },
      "source": [
        "sampled_train.to_csv('data/sampled_train.csv', index=False)"
      ],
      "execution_count": 0,
      "outputs": []
    },
    {
      "cell_type": "markdown",
      "metadata": {
        "id": "vsZDP-yhJPuE",
        "colab_type": "text"
      },
      "source": [
        "# 특징 추출"
      ]
    },
    {
      "cell_type": "code",
      "metadata": {
        "id": "PW96CWsWJPuG",
        "colab_type": "code",
        "colab": {}
      },
      "source": [
        "train = pd.read_csv('data/sampled_train.csv')"
      ],
      "execution_count": 0,
      "outputs": []
    },
    {
      "cell_type": "markdown",
      "metadata": {
        "id": "oJU-jXCsYtLA",
        "colab_type": "text"
      },
      "source": [
        "## 승리자 추출"
      ]
    },
    {
      "cell_type": "code",
      "metadata": {
        "id": "Fuic04SKY0J-",
        "colab_type": "code",
        "colab": {}
      },
      "source": [
        "def extract_winner(df):\n",
        "    return df.groupby(['game_id'])['winner'].first()"
      ],
      "execution_count": 0,
      "outputs": []
    },
    {
      "cell_type": "markdown",
      "metadata": {
        "id": "mFeWqv4qjvYx",
        "colab_type": "text"
      },
      "source": [
        "## 종족 추출"
      ]
    },
    {
      "cell_type": "code",
      "metadata": {
        "id": "PEswd9n7aZ6N",
        "colab_type": "code",
        "colab": {}
      },
      "source": [
        "def species_converter(string):\n",
        "    if string == 'T':\n",
        "        return 0\n",
        "    elif string == 'P':\n",
        "        return 1\n",
        "    elif string == 'Z':\n",
        "        return 2\n",
        "    else:\n",
        "        raise ValueError\n",
        "\n",
        "def extract_species(df):\n",
        "    species = df.groupby(['game_id', 'player'])['species'].first()\n",
        "\n",
        "    species_df = species.unstack(level=-1)\n",
        "    species_df.columns = species_df.columns.map(lambda x: f'p{x}_species')\n",
        "    species_df.columns.name = None\n",
        "\n",
        "    species_df = species_df.applymap(species_converter)\n",
        "\n",
        "    return species_df"
      ],
      "execution_count": 0,
      "outputs": []
    },
    {
      "cell_type": "markdown",
      "metadata": {
        "id": "99B42AWz6CVX",
        "colab_type": "text"
      },
      "source": [
        "## 플레이어별 이벤트 횟수"
      ]
    },
    {
      "cell_type": "code",
      "metadata": {
        "id": "gZKbW3Ka7ZqU",
        "colab_type": "code",
        "colab": {}
      },
      "source": [
        "def extract_event_counts(df):\n",
        "    events = ['Ability', 'AddToControlGroup', 'Camera', 'ControlGroup', 'GetControlGroup', 'Right Click', 'Selection', 'SetControlGroup']\n",
        "\n",
        "    event_counts = df.groupby(['game_id', 'player'])['event'].value_counts()\n",
        "    event_counts = event_counts.unstack(level=-1).unstack(level=-1)\n",
        "    event_counts.columns = event_counts.columns.map(lambda x: f'p{x[1]}_event_{x[0]}')\n",
        "    event_counts = event_counts.fillna(0)\n",
        "\n",
        "    result = pd.DataFrame(index=event_counts.index)\n",
        "\n",
        "    for player in ['p0', 'p1']:\n",
        "        for event in events:\n",
        "            result[f'{player}_event_{event}'] = event_counts.get(f'{player}_event_{event}', 0.0)\n",
        "\n",
        "    for event in events:\n",
        "        result[f'delta_event_{event}'] = result[f'p0_event_{event}'] - result[f'p1_event_{event}']\n",
        "\n",
        "    return result"
      ],
      "execution_count": 0,
      "outputs": []
    },
    {
      "cell_type": "markdown",
      "metadata": {
        "id": "iOYnJWwz3Fah",
        "colab_type": "text"
      },
      "source": [
        "## 게임 시간 추출"
      ]
    },
    {
      "cell_type": "code",
      "metadata": {
        "id": "0dW9_94E3X_M",
        "colab_type": "code",
        "colab": {}
      },
      "source": [
        "def extract_playtime(df):\n",
        "    def min_to_sec(t):\n",
        "        m = int(t)\n",
        "        s = (t - m) * 100\n",
        "        return (m * 60) + s\n",
        "\n",
        "    return df.groupby(['game_id'])['time'].max().apply(min_to_sec)"
      ],
      "execution_count": 0,
      "outputs": []
    },
    {
      "cell_type": "markdown",
      "metadata": {
        "id": "m7FuEGx65_Nb",
        "colab_type": "text"
      },
      "source": [
        "## 시뮬레이션 후 특징 추출"
      ]
    },
    {
      "cell_type": "code",
      "metadata": {
        "id": "qqfhqQsLANXC",
        "colab_type": "code",
        "colab": {}
      },
      "source": [
        "class GameState:\n",
        "    def init(self):\n",
        "        pass\n",
        "\n",
        "    def update(self, game_id, time, player, species, event, event_contents):\n",
        "        pass\n",
        "\n",
        "    def to_dict(self):\n",
        "        return {}\n",
        "\n",
        "\n",
        "class GameStateManager:\n",
        "    def __init__(self):\n",
        "        self._states = []\n",
        "\n",
        "    def add(self, game_state):\n",
        "        self._states.append(game_state)\n",
        "\n",
        "    def init(self):\n",
        "        for state in self._states:\n",
        "            state.init()\n",
        "\n",
        "    def update(self, game_id, time, player, species, event, event_contents):\n",
        "        for state in self._states:\n",
        "            state.update(game_id, time, player, species, event, event_contents)\n",
        "\n",
        "    def to_dict(self):\n",
        "        ret = {}\n",
        "        for state in self._states:\n",
        "            ret.update(state.to_dict())\n",
        "        return ret\n",
        "\n",
        "\n",
        "def extract_game_states(df, game_states):\n",
        "    mat = df.to_numpy()\n",
        "\n",
        "    data = {}\n",
        "\n",
        "    cur_game_id = -1\n",
        "\n",
        "    game_state = GameStateManager()\n",
        "    for state in game_states:\n",
        "        game_state.add(state)\n",
        "\n",
        "    for row in tqdm(mat):\n",
        "        game_id, time, player, species, event, event_contents = row\n",
        "\n",
        "        if game_id != cur_game_id:\n",
        "            if cur_game_id != -1:\n",
        "                data[cur_game_id] = game_state.to_dict()\n",
        "\n",
        "            cur_game_id = game_id\n",
        "            game_state.init()\n",
        "\n",
        "        game_state.update(game_id, time, player, species, event, event_contents)\n",
        "\n",
        "    if cur_game_id != -1:\n",
        "        data[cur_game_id] = game_state.to_dict()\n",
        "\n",
        "    del mat\n",
        "    gc.collect()\n",
        "\n",
        "    return pd.DataFrame.from_dict(data, orient='index')"
      ],
      "execution_count": 0,
      "outputs": []
    },
    {
      "cell_type": "markdown",
      "metadata": {
        "id": "yEbBfGQ7S3Vb",
        "colab_type": "text"
      },
      "source": [
        "### 카메라 분산"
      ]
    },
    {
      "cell_type": "code",
      "metadata": {
        "id": "_rNL-MpNAROQ",
        "colab_type": "code",
        "colab": {}
      },
      "source": [
        "class CameraState(GameState):\n",
        "    def init(self):\n",
        "        self.p0_camera_x = []\n",
        "        self.p0_camera_y = []\n",
        "        self.p1_camera_x = []\n",
        "        self.p1_camera_y = []\n",
        "\n",
        "    def update(self, game_id, time, player, species, event, event_contents):\n",
        "        if event == 'Camera':\n",
        "            camera_x, camera_y = CameraState.parse_at(event_contents)\n",
        "\n",
        "            if player == 0:\n",
        "                self.p0_camera_x.append(camera_x)\n",
        "                self.p0_camera_y.append(camera_y)\n",
        "            else:\n",
        "                self.p1_camera_x.append(camera_x)\n",
        "                self.p1_camera_y.append(camera_y)\n",
        "\n",
        "    def to_dict(self):\n",
        "        return {\n",
        "            'p0_camera_x': np.var(self.p0_camera_x),\n",
        "            'p0_camera_y': np.var(self.p0_camera_y),\n",
        "            'p1_camera_x': np.var(self.p1_camera_x),\n",
        "            'p1_camera_y': np.var(self.p1_camera_y),\n",
        "        }\n",
        "\n",
        "    @staticmethod\n",
        "    def parse_at(event_contents):\n",
        "        mid = event_contents.find(',', 4)\n",
        "        x = float(event_contents[4:mid])\n",
        "        y = float(event_contents[mid+2:-1])\n",
        "        return x, y"
      ],
      "execution_count": 0,
      "outputs": []
    },
    {
      "cell_type": "code",
      "metadata": {
        "id": "z8WngpNQy3Td",
        "colab_type": "code",
        "colab": {}
      },
      "source": [
        "df = train.drop(columns=['winner'])"
      ],
      "execution_count": 0,
      "outputs": []
    },
    {
      "cell_type": "code",
      "metadata": {
        "id": "oy-NLmAtpJ81",
        "colab_type": "code",
        "outputId": "1a18904c-0958-4e54-fc23-0e265671613c",
        "colab": {
          "base_uri": "https://localhost:8080/",
          "height": 451,
          "referenced_widgets": [
            "332887399e48423f8ef3ecaca4d6b9d8",
            "e983742dda9743c4aef39e862efee75e",
            "800649ca35f847c59390dc2d438832d4",
            "1181892474a64eef90a0d8ae73544948",
            "b7dd98f469084fbd909f0fcb1a0b657e",
            "5465fe1ff2814065a1d9163813f5ff7f",
            "936a7bac28154b8a90162c9693dd3329",
            "af680e4200914d4eb5b6a5ee82f76b93"
          ]
        }
      },
      "source": [
        "extract_game_states(df, [\n",
        "    CameraState(),\n",
        "])"
      ],
      "execution_count": 16,
      "outputs": [
        {
          "output_type": "display_data",
          "data": {
            "application/vnd.jupyter.widget-view+json": {
              "model_id": "332887399e48423f8ef3ecaca4d6b9d8",
              "version_minor": 0,
              "version_major": 2
            },
            "text/plain": [
              "HBox(children=(FloatProgress(value=0.0, max=67091776.0), HTML(value='')))"
            ]
          },
          "metadata": {
            "tags": []
          }
        },
        {
          "output_type": "stream",
          "text": [
            "\n"
          ],
          "name": "stdout"
        },
        {
          "output_type": "execute_result",
          "data": {
            "text/html": [
              "<div>\n",
              "<style scoped>\n",
              "    .dataframe tbody tr th:only-of-type {\n",
              "        vertical-align: middle;\n",
              "    }\n",
              "\n",
              "    .dataframe tbody tr th {\n",
              "        vertical-align: top;\n",
              "    }\n",
              "\n",
              "    .dataframe thead th {\n",
              "        text-align: right;\n",
              "    }\n",
              "</style>\n",
              "<table border=\"1\" class=\"dataframe\">\n",
              "  <thead>\n",
              "    <tr style=\"text-align: right;\">\n",
              "      <th></th>\n",
              "      <th>p0_camera_x</th>\n",
              "      <th>p0_camera_y</th>\n",
              "      <th>p1_camera_x</th>\n",
              "      <th>p1_camera_y</th>\n",
              "    </tr>\n",
              "  </thead>\n",
              "  <tbody>\n",
              "    <tr>\n",
              "      <th>0</th>\n",
              "      <td>763.434578</td>\n",
              "      <td>1029.515414</td>\n",
              "      <td>24.314657</td>\n",
              "      <td>78.746863</td>\n",
              "    </tr>\n",
              "    <tr>\n",
              "      <th>1</th>\n",
              "      <td>671.434895</td>\n",
              "      <td>837.446806</td>\n",
              "      <td>1412.369713</td>\n",
              "      <td>2348.367561</td>\n",
              "    </tr>\n",
              "    <tr>\n",
              "      <th>2</th>\n",
              "      <td>1493.570080</td>\n",
              "      <td>628.467848</td>\n",
              "      <td>1435.172816</td>\n",
              "      <td>550.632165</td>\n",
              "    </tr>\n",
              "    <tr>\n",
              "      <th>3</th>\n",
              "      <td>1327.289239</td>\n",
              "      <td>1272.379892</td>\n",
              "      <td>1433.182454</td>\n",
              "      <td>1184.508068</td>\n",
              "    </tr>\n",
              "    <tr>\n",
              "      <th>4</th>\n",
              "      <td>1457.014632</td>\n",
              "      <td>1279.786625</td>\n",
              "      <td>650.662409</td>\n",
              "      <td>754.768815</td>\n",
              "    </tr>\n",
              "    <tr>\n",
              "      <th>...</th>\n",
              "      <td>...</td>\n",
              "      <td>...</td>\n",
              "      <td>...</td>\n",
              "      <td>...</td>\n",
              "    </tr>\n",
              "    <tr>\n",
              "      <th>38867</th>\n",
              "      <td>1246.874820</td>\n",
              "      <td>1214.428014</td>\n",
              "      <td>1914.465605</td>\n",
              "      <td>1433.958132</td>\n",
              "    </tr>\n",
              "    <tr>\n",
              "      <th>38868</th>\n",
              "      <td>1014.613696</td>\n",
              "      <td>2252.216101</td>\n",
              "      <td>596.899852</td>\n",
              "      <td>1344.258487</td>\n",
              "    </tr>\n",
              "    <tr>\n",
              "      <th>38869</th>\n",
              "      <td>1713.881894</td>\n",
              "      <td>721.842525</td>\n",
              "      <td>2348.298356</td>\n",
              "      <td>1414.454222</td>\n",
              "    </tr>\n",
              "    <tr>\n",
              "      <th>38870</th>\n",
              "      <td>6.834018</td>\n",
              "      <td>137.199129</td>\n",
              "      <td>668.822659</td>\n",
              "      <td>668.614059</td>\n",
              "    </tr>\n",
              "    <tr>\n",
              "      <th>38871</th>\n",
              "      <td>570.622051</td>\n",
              "      <td>614.864958</td>\n",
              "      <td>2403.311921</td>\n",
              "      <td>1376.944586</td>\n",
              "    </tr>\n",
              "  </tbody>\n",
              "</table>\n",
              "<p>38872 rows × 4 columns</p>\n",
              "</div>"
            ],
            "text/plain": [
              "       p0_camera_x  p0_camera_y  p1_camera_x  p1_camera_y\n",
              "0       763.434578  1029.515414    24.314657    78.746863\n",
              "1       671.434895   837.446806  1412.369713  2348.367561\n",
              "2      1493.570080   628.467848  1435.172816   550.632165\n",
              "3      1327.289239  1272.379892  1433.182454  1184.508068\n",
              "4      1457.014632  1279.786625   650.662409   754.768815\n",
              "...            ...          ...          ...          ...\n",
              "38867  1246.874820  1214.428014  1914.465605  1433.958132\n",
              "38868  1014.613696  2252.216101   596.899852  1344.258487\n",
              "38869  1713.881894   721.842525  2348.298356  1414.454222\n",
              "38870     6.834018   137.199129   668.822659   668.614059\n",
              "38871   570.622051   614.864958  2403.311921  1376.944586\n",
              "\n",
              "[38872 rows x 4 columns]"
            ]
          },
          "metadata": {
            "tags": []
          },
          "execution_count": 16
        }
      ]
    },
    {
      "cell_type": "markdown",
      "metadata": {
        "id": "vWdkfqnHYoKt",
        "colab_type": "text"
      },
      "source": [
        "## 실험"
      ]
    },
    {
      "cell_type": "code",
      "metadata": {
        "id": "_wvMg2DZT7eM",
        "colab_type": "code",
        "colab": {}
      },
      "source": [
        "df = train"
      ],
      "execution_count": 0,
      "outputs": []
    },
    {
      "cell_type": "markdown",
      "metadata": {
        "id": "ag5PXCITZGHO",
        "colab_type": "text"
      },
      "source": [
        "## Feature Engineering"
      ]
    },
    {
      "cell_type": "code",
      "metadata": {
        "id": "5zZnGqRQZXZy",
        "colab_type": "code",
        "colab": {}
      },
      "source": [
        "def prepare_x_data(df):\n",
        "    df = df.drop(columns=['winner'])\n",
        "    features = []\n",
        "    features.append(extract_species(df))\n",
        "    features.append(extract_event_counts(df))\n",
        "    features.append(extract_game_states(df, [\n",
        "        CameraState(),\n",
        "    ]))\n",
        "\n",
        "    return pd.concat(features, axis=1)"
      ],
      "execution_count": 0,
      "outputs": []
    },
    {
      "cell_type": "code",
      "metadata": {
        "id": "dLVPAtsaaPHL",
        "colab_type": "code",
        "colab": {}
      },
      "source": [
        "def prepare_y_data(df):\n",
        "    winners = extract_winner(df)\n",
        "    return np.array(winners)"
      ],
      "execution_count": 0,
      "outputs": []
    },
    {
      "cell_type": "code",
      "metadata": {
        "id": "i5BSAkAzj1-7",
        "colab_type": "code",
        "outputId": "266ebfe7-75fd-48d1-8735-0f3c3d60dfcc",
        "colab": {
          "base_uri": "https://localhost:8080/",
          "height": 282,
          "referenced_widgets": [
            "d938c328d11f4f2e9fd4fa5801fca9c9",
            "7087d4cdeaa248bca21bc715ef8318e3",
            "a38e33de611c47b39512dbb6813383ac",
            "74f29e3d12fe4df482fa1a8f7fc496e8",
            "7e461dc5e91e4ff9923ca005e01e4a96",
            "89e6c3df504345bf828955956d991392",
            "b54461dcf30140d694f9613402e7cb55",
            "e95e04d5dfba4cb5ab5ab6dc5b8e2912"
          ]
        }
      },
      "source": [
        "x_train = prepare_x_data(train)\n",
        "y_train = prepare_y_data(train)\n",
        "x_train.head()"
      ],
      "execution_count": 24,
      "outputs": [
        {
          "output_type": "display_data",
          "data": {
            "application/vnd.jupyter.widget-view+json": {
              "model_id": "d938c328d11f4f2e9fd4fa5801fca9c9",
              "version_minor": 0,
              "version_major": 2
            },
            "text/plain": [
              "HBox(children=(FloatProgress(value=0.0, max=520835.0), HTML(value='')))"
            ]
          },
          "metadata": {
            "tags": []
          }
        },
        {
          "output_type": "stream",
          "text": [
            "\n"
          ],
          "name": "stdout"
        },
        {
          "output_type": "execute_result",
          "data": {
            "text/html": [
              "<div>\n",
              "<style scoped>\n",
              "    .dataframe tbody tr th:only-of-type {\n",
              "        vertical-align: middle;\n",
              "    }\n",
              "\n",
              "    .dataframe tbody tr th {\n",
              "        vertical-align: top;\n",
              "    }\n",
              "\n",
              "    .dataframe thead th {\n",
              "        text-align: right;\n",
              "    }\n",
              "</style>\n",
              "<table border=\"1\" class=\"dataframe\">\n",
              "  <thead>\n",
              "    <tr style=\"text-align: right;\">\n",
              "      <th></th>\n",
              "      <th>p0_species</th>\n",
              "      <th>p1_species</th>\n",
              "      <th>p0_event_Ability</th>\n",
              "      <th>p0_event_AddToControlGroup</th>\n",
              "      <th>p0_event_Camera</th>\n",
              "      <th>p0_event_ControlGroup</th>\n",
              "      <th>p0_event_GetControlGroup</th>\n",
              "      <th>p0_event_Right Click</th>\n",
              "      <th>p0_event_Selection</th>\n",
              "      <th>p0_event_SetControlGroup</th>\n",
              "      <th>p1_event_Ability</th>\n",
              "      <th>p1_event_AddToControlGroup</th>\n",
              "      <th>p1_event_Camera</th>\n",
              "      <th>p1_event_ControlGroup</th>\n",
              "      <th>p1_event_GetControlGroup</th>\n",
              "      <th>p1_event_Right Click</th>\n",
              "      <th>p1_event_Selection</th>\n",
              "      <th>p1_event_SetControlGroup</th>\n",
              "      <th>delta_event_Ability</th>\n",
              "      <th>delta_event_AddToControlGroup</th>\n",
              "      <th>delta_event_Camera</th>\n",
              "      <th>delta_event_ControlGroup</th>\n",
              "      <th>delta_event_GetControlGroup</th>\n",
              "      <th>delta_event_Right Click</th>\n",
              "      <th>delta_event_Selection</th>\n",
              "      <th>delta_event_SetControlGroup</th>\n",
              "      <th>p0_camera_x</th>\n",
              "      <th>p0_camera_y</th>\n",
              "      <th>p1_camera_x</th>\n",
              "      <th>p1_camera_y</th>\n",
              "    </tr>\n",
              "  </thead>\n",
              "  <tbody>\n",
              "    <tr>\n",
              "      <th>18</th>\n",
              "      <td>2</td>\n",
              "      <td>2</td>\n",
              "      <td>26.0</td>\n",
              "      <td>0.0</td>\n",
              "      <td>228.0</td>\n",
              "      <td>0.0</td>\n",
              "      <td>47.0</td>\n",
              "      <td>68.0</td>\n",
              "      <td>103.0</td>\n",
              "      <td>5.0</td>\n",
              "      <td>42.0</td>\n",
              "      <td>0.0</td>\n",
              "      <td>82.0</td>\n",
              "      <td>0.0</td>\n",
              "      <td>41.0</td>\n",
              "      <td>126.0</td>\n",
              "      <td>95.0</td>\n",
              "      <td>7.0</td>\n",
              "      <td>-16.0</td>\n",
              "      <td>0.0</td>\n",
              "      <td>146.0</td>\n",
              "      <td>0.0</td>\n",
              "      <td>6.0</td>\n",
              "      <td>-58.0</td>\n",
              "      <td>8.0</td>\n",
              "      <td>-2.0</td>\n",
              "      <td>768.272004</td>\n",
              "      <td>921.704322</td>\n",
              "      <td>1785.817478</td>\n",
              "      <td>1072.862210</td>\n",
              "    </tr>\n",
              "    <tr>\n",
              "      <th>759</th>\n",
              "      <td>1</td>\n",
              "      <td>2</td>\n",
              "      <td>35.0</td>\n",
              "      <td>0.0</td>\n",
              "      <td>375.0</td>\n",
              "      <td>0.0</td>\n",
              "      <td>191.0</td>\n",
              "      <td>118.0</td>\n",
              "      <td>95.0</td>\n",
              "      <td>7.0</td>\n",
              "      <td>25.0</td>\n",
              "      <td>0.0</td>\n",
              "      <td>311.0</td>\n",
              "      <td>0.0</td>\n",
              "      <td>167.0</td>\n",
              "      <td>71.0</td>\n",
              "      <td>281.0</td>\n",
              "      <td>1.0</td>\n",
              "      <td>10.0</td>\n",
              "      <td>0.0</td>\n",
              "      <td>64.0</td>\n",
              "      <td>0.0</td>\n",
              "      <td>24.0</td>\n",
              "      <td>47.0</td>\n",
              "      <td>-186.0</td>\n",
              "      <td>6.0</td>\n",
              "      <td>1971.391818</td>\n",
              "      <td>1514.360742</td>\n",
              "      <td>1937.170697</td>\n",
              "      <td>1055.699525</td>\n",
              "    </tr>\n",
              "    <tr>\n",
              "      <th>937</th>\n",
              "      <td>2</td>\n",
              "      <td>1</td>\n",
              "      <td>52.0</td>\n",
              "      <td>0.0</td>\n",
              "      <td>434.0</td>\n",
              "      <td>0.0</td>\n",
              "      <td>49.0</td>\n",
              "      <td>209.0</td>\n",
              "      <td>184.0</td>\n",
              "      <td>1.0</td>\n",
              "      <td>56.0</td>\n",
              "      <td>0.0</td>\n",
              "      <td>205.0</td>\n",
              "      <td>0.0</td>\n",
              "      <td>174.0</td>\n",
              "      <td>290.0</td>\n",
              "      <td>78.0</td>\n",
              "      <td>4.0</td>\n",
              "      <td>-4.0</td>\n",
              "      <td>0.0</td>\n",
              "      <td>229.0</td>\n",
              "      <td>0.0</td>\n",
              "      <td>-125.0</td>\n",
              "      <td>-81.0</td>\n",
              "      <td>106.0</td>\n",
              "      <td>-3.0</td>\n",
              "      <td>1590.372118</td>\n",
              "      <td>1108.987084</td>\n",
              "      <td>3023.422341</td>\n",
              "      <td>1418.252719</td>\n",
              "    </tr>\n",
              "    <tr>\n",
              "      <th>954</th>\n",
              "      <td>0</td>\n",
              "      <td>1</td>\n",
              "      <td>26.0</td>\n",
              "      <td>0.0</td>\n",
              "      <td>265.0</td>\n",
              "      <td>0.0</td>\n",
              "      <td>14.0</td>\n",
              "      <td>156.0</td>\n",
              "      <td>69.0</td>\n",
              "      <td>0.0</td>\n",
              "      <td>57.0</td>\n",
              "      <td>0.0</td>\n",
              "      <td>483.0</td>\n",
              "      <td>0.0</td>\n",
              "      <td>0.0</td>\n",
              "      <td>157.0</td>\n",
              "      <td>59.0</td>\n",
              "      <td>0.0</td>\n",
              "      <td>-31.0</td>\n",
              "      <td>0.0</td>\n",
              "      <td>-218.0</td>\n",
              "      <td>0.0</td>\n",
              "      <td>14.0</td>\n",
              "      <td>-1.0</td>\n",
              "      <td>10.0</td>\n",
              "      <td>0.0</td>\n",
              "      <td>46.170852</td>\n",
              "      <td>216.606557</td>\n",
              "      <td>1443.992940</td>\n",
              "      <td>1242.162422</td>\n",
              "    </tr>\n",
              "    <tr>\n",
              "      <th>1044</th>\n",
              "      <td>2</td>\n",
              "      <td>1</td>\n",
              "      <td>64.0</td>\n",
              "      <td>6.0</td>\n",
              "      <td>344.0</td>\n",
              "      <td>0.0</td>\n",
              "      <td>88.0</td>\n",
              "      <td>268.0</td>\n",
              "      <td>167.0</td>\n",
              "      <td>4.0</td>\n",
              "      <td>46.0</td>\n",
              "      <td>0.0</td>\n",
              "      <td>899.0</td>\n",
              "      <td>0.0</td>\n",
              "      <td>73.0</td>\n",
              "      <td>185.0</td>\n",
              "      <td>85.0</td>\n",
              "      <td>7.0</td>\n",
              "      <td>18.0</td>\n",
              "      <td>6.0</td>\n",
              "      <td>-555.0</td>\n",
              "      <td>0.0</td>\n",
              "      <td>15.0</td>\n",
              "      <td>83.0</td>\n",
              "      <td>82.0</td>\n",
              "      <td>-3.0</td>\n",
              "      <td>1248.832470</td>\n",
              "      <td>897.182721</td>\n",
              "      <td>996.457435</td>\n",
              "      <td>562.700024</td>\n",
              "    </tr>\n",
              "  </tbody>\n",
              "</table>\n",
              "</div>"
            ],
            "text/plain": [
              "      p0_species  p1_species  ...  p1_camera_x  p1_camera_y\n",
              "18             2           2  ...  1785.817478  1072.862210\n",
              "759            1           2  ...  1937.170697  1055.699525\n",
              "937            2           1  ...  3023.422341  1418.252719\n",
              "954            0           1  ...  1443.992940  1242.162422\n",
              "1044           2           1  ...   996.457435   562.700024\n",
              "\n",
              "[5 rows x 30 columns]"
            ]
          },
          "metadata": {
            "tags": []
          },
          "execution_count": 24
        }
      ]
    },
    {
      "cell_type": "markdown",
      "metadata": {
        "id": "eYo8bpzpJPuL",
        "colab_type": "text"
      },
      "source": [
        "# 변수 선택 및 모델 구축"
      ]
    },
    {
      "cell_type": "code",
      "metadata": {
        "id": "f5XP27JnJPuV",
        "colab_type": "code",
        "outputId": "5bfc5222-6b6f-425a-d34f-b61242249799",
        "colab": {
          "base_uri": "https://localhost:8080/",
          "height": 282,
          "referenced_widgets": [
            "1e7cc361ec824fc7969431a7931f8539",
            "2375d3d7dce24f4ba489595d9e50bf08",
            "69250ab5d9f94b3cbd6fc161e1262207",
            "357e5bbe0a094595bc04519c0bcb8834",
            "b3a2ff8cfcd147938b74251412e28457",
            "0f503eb1fbae40e1a66d3285b33ae052",
            "0945967a61b24217a9bccbe752ed11e3",
            "b8dafface5a5402e90f72a68f5ab680b"
          ]
        }
      },
      "source": [
        "# train = pd.read_csv('data/train.csv')\n",
        "train = pd.read_csv('data/sampled_train.csv')\n",
        "x_train = prepare_x_data(train)\n",
        "y_train = prepare_y_data(train)\n",
        "x_train.head()"
      ],
      "execution_count": 25,
      "outputs": [
        {
          "output_type": "display_data",
          "data": {
            "application/vnd.jupyter.widget-view+json": {
              "model_id": "1e7cc361ec824fc7969431a7931f8539",
              "version_minor": 0,
              "version_major": 2
            },
            "text/plain": [
              "HBox(children=(FloatProgress(value=0.0, max=520835.0), HTML(value='')))"
            ]
          },
          "metadata": {
            "tags": []
          }
        },
        {
          "output_type": "stream",
          "text": [
            "\n"
          ],
          "name": "stdout"
        },
        {
          "output_type": "execute_result",
          "data": {
            "text/html": [
              "<div>\n",
              "<style scoped>\n",
              "    .dataframe tbody tr th:only-of-type {\n",
              "        vertical-align: middle;\n",
              "    }\n",
              "\n",
              "    .dataframe tbody tr th {\n",
              "        vertical-align: top;\n",
              "    }\n",
              "\n",
              "    .dataframe thead th {\n",
              "        text-align: right;\n",
              "    }\n",
              "</style>\n",
              "<table border=\"1\" class=\"dataframe\">\n",
              "  <thead>\n",
              "    <tr style=\"text-align: right;\">\n",
              "      <th></th>\n",
              "      <th>p0_species</th>\n",
              "      <th>p1_species</th>\n",
              "      <th>p0_event_Ability</th>\n",
              "      <th>p0_event_AddToControlGroup</th>\n",
              "      <th>p0_event_Camera</th>\n",
              "      <th>p0_event_ControlGroup</th>\n",
              "      <th>p0_event_GetControlGroup</th>\n",
              "      <th>p0_event_Right Click</th>\n",
              "      <th>p0_event_Selection</th>\n",
              "      <th>p0_event_SetControlGroup</th>\n",
              "      <th>p1_event_Ability</th>\n",
              "      <th>p1_event_AddToControlGroup</th>\n",
              "      <th>p1_event_Camera</th>\n",
              "      <th>p1_event_ControlGroup</th>\n",
              "      <th>p1_event_GetControlGroup</th>\n",
              "      <th>p1_event_Right Click</th>\n",
              "      <th>p1_event_Selection</th>\n",
              "      <th>p1_event_SetControlGroup</th>\n",
              "      <th>delta_event_Ability</th>\n",
              "      <th>delta_event_AddToControlGroup</th>\n",
              "      <th>delta_event_Camera</th>\n",
              "      <th>delta_event_ControlGroup</th>\n",
              "      <th>delta_event_GetControlGroup</th>\n",
              "      <th>delta_event_Right Click</th>\n",
              "      <th>delta_event_Selection</th>\n",
              "      <th>delta_event_SetControlGroup</th>\n",
              "      <th>p0_camera_x</th>\n",
              "      <th>p0_camera_y</th>\n",
              "      <th>p1_camera_x</th>\n",
              "      <th>p1_camera_y</th>\n",
              "    </tr>\n",
              "  </thead>\n",
              "  <tbody>\n",
              "    <tr>\n",
              "      <th>18</th>\n",
              "      <td>2</td>\n",
              "      <td>2</td>\n",
              "      <td>26.0</td>\n",
              "      <td>0.0</td>\n",
              "      <td>228.0</td>\n",
              "      <td>0.0</td>\n",
              "      <td>47.0</td>\n",
              "      <td>68.0</td>\n",
              "      <td>103.0</td>\n",
              "      <td>5.0</td>\n",
              "      <td>42.0</td>\n",
              "      <td>0.0</td>\n",
              "      <td>82.0</td>\n",
              "      <td>0.0</td>\n",
              "      <td>41.0</td>\n",
              "      <td>126.0</td>\n",
              "      <td>95.0</td>\n",
              "      <td>7.0</td>\n",
              "      <td>-16.0</td>\n",
              "      <td>0.0</td>\n",
              "      <td>146.0</td>\n",
              "      <td>0.0</td>\n",
              "      <td>6.0</td>\n",
              "      <td>-58.0</td>\n",
              "      <td>8.0</td>\n",
              "      <td>-2.0</td>\n",
              "      <td>768.272004</td>\n",
              "      <td>921.704322</td>\n",
              "      <td>1785.817478</td>\n",
              "      <td>1072.862210</td>\n",
              "    </tr>\n",
              "    <tr>\n",
              "      <th>759</th>\n",
              "      <td>1</td>\n",
              "      <td>2</td>\n",
              "      <td>35.0</td>\n",
              "      <td>0.0</td>\n",
              "      <td>375.0</td>\n",
              "      <td>0.0</td>\n",
              "      <td>191.0</td>\n",
              "      <td>118.0</td>\n",
              "      <td>95.0</td>\n",
              "      <td>7.0</td>\n",
              "      <td>25.0</td>\n",
              "      <td>0.0</td>\n",
              "      <td>311.0</td>\n",
              "      <td>0.0</td>\n",
              "      <td>167.0</td>\n",
              "      <td>71.0</td>\n",
              "      <td>281.0</td>\n",
              "      <td>1.0</td>\n",
              "      <td>10.0</td>\n",
              "      <td>0.0</td>\n",
              "      <td>64.0</td>\n",
              "      <td>0.0</td>\n",
              "      <td>24.0</td>\n",
              "      <td>47.0</td>\n",
              "      <td>-186.0</td>\n",
              "      <td>6.0</td>\n",
              "      <td>1971.391818</td>\n",
              "      <td>1514.360742</td>\n",
              "      <td>1937.170697</td>\n",
              "      <td>1055.699525</td>\n",
              "    </tr>\n",
              "    <tr>\n",
              "      <th>937</th>\n",
              "      <td>2</td>\n",
              "      <td>1</td>\n",
              "      <td>52.0</td>\n",
              "      <td>0.0</td>\n",
              "      <td>434.0</td>\n",
              "      <td>0.0</td>\n",
              "      <td>49.0</td>\n",
              "      <td>209.0</td>\n",
              "      <td>184.0</td>\n",
              "      <td>1.0</td>\n",
              "      <td>56.0</td>\n",
              "      <td>0.0</td>\n",
              "      <td>205.0</td>\n",
              "      <td>0.0</td>\n",
              "      <td>174.0</td>\n",
              "      <td>290.0</td>\n",
              "      <td>78.0</td>\n",
              "      <td>4.0</td>\n",
              "      <td>-4.0</td>\n",
              "      <td>0.0</td>\n",
              "      <td>229.0</td>\n",
              "      <td>0.0</td>\n",
              "      <td>-125.0</td>\n",
              "      <td>-81.0</td>\n",
              "      <td>106.0</td>\n",
              "      <td>-3.0</td>\n",
              "      <td>1590.372118</td>\n",
              "      <td>1108.987084</td>\n",
              "      <td>3023.422341</td>\n",
              "      <td>1418.252719</td>\n",
              "    </tr>\n",
              "    <tr>\n",
              "      <th>954</th>\n",
              "      <td>0</td>\n",
              "      <td>1</td>\n",
              "      <td>26.0</td>\n",
              "      <td>0.0</td>\n",
              "      <td>265.0</td>\n",
              "      <td>0.0</td>\n",
              "      <td>14.0</td>\n",
              "      <td>156.0</td>\n",
              "      <td>69.0</td>\n",
              "      <td>0.0</td>\n",
              "      <td>57.0</td>\n",
              "      <td>0.0</td>\n",
              "      <td>483.0</td>\n",
              "      <td>0.0</td>\n",
              "      <td>0.0</td>\n",
              "      <td>157.0</td>\n",
              "      <td>59.0</td>\n",
              "      <td>0.0</td>\n",
              "      <td>-31.0</td>\n",
              "      <td>0.0</td>\n",
              "      <td>-218.0</td>\n",
              "      <td>0.0</td>\n",
              "      <td>14.0</td>\n",
              "      <td>-1.0</td>\n",
              "      <td>10.0</td>\n",
              "      <td>0.0</td>\n",
              "      <td>46.170852</td>\n",
              "      <td>216.606557</td>\n",
              "      <td>1443.992940</td>\n",
              "      <td>1242.162422</td>\n",
              "    </tr>\n",
              "    <tr>\n",
              "      <th>1044</th>\n",
              "      <td>2</td>\n",
              "      <td>1</td>\n",
              "      <td>64.0</td>\n",
              "      <td>6.0</td>\n",
              "      <td>344.0</td>\n",
              "      <td>0.0</td>\n",
              "      <td>88.0</td>\n",
              "      <td>268.0</td>\n",
              "      <td>167.0</td>\n",
              "      <td>4.0</td>\n",
              "      <td>46.0</td>\n",
              "      <td>0.0</td>\n",
              "      <td>899.0</td>\n",
              "      <td>0.0</td>\n",
              "      <td>73.0</td>\n",
              "      <td>185.0</td>\n",
              "      <td>85.0</td>\n",
              "      <td>7.0</td>\n",
              "      <td>18.0</td>\n",
              "      <td>6.0</td>\n",
              "      <td>-555.0</td>\n",
              "      <td>0.0</td>\n",
              "      <td>15.0</td>\n",
              "      <td>83.0</td>\n",
              "      <td>82.0</td>\n",
              "      <td>-3.0</td>\n",
              "      <td>1248.832470</td>\n",
              "      <td>897.182721</td>\n",
              "      <td>996.457435</td>\n",
              "      <td>562.700024</td>\n",
              "    </tr>\n",
              "  </tbody>\n",
              "</table>\n",
              "</div>"
            ],
            "text/plain": [
              "      p0_species  p1_species  ...  p1_camera_x  p1_camera_y\n",
              "18             2           2  ...  1785.817478  1072.862210\n",
              "759            1           2  ...  1937.170697  1055.699525\n",
              "937            2           1  ...  3023.422341  1418.252719\n",
              "954            0           1  ...  1443.992940  1242.162422\n",
              "1044           2           1  ...   996.457435   562.700024\n",
              "\n",
              "[5 rows x 30 columns]"
            ]
          },
          "metadata": {
            "tags": []
          },
          "execution_count": 25
        }
      ]
    },
    {
      "cell_type": "code",
      "metadata": {
        "id": "kuhsgWttLBtV",
        "colab_type": "code",
        "colab": {}
      },
      "source": [
        "def lgb_cv(num_leaves, learning_rate, n_estimators, subsample, colsample_bytree, reg_alpha, reg_lambda, bagging_fraction, feature_fraction, x_data=None, y_data=None, n_splits=5, output='score'):\n",
        "    score = 0\n",
        "    kf = KFold(n_splits=n_splits)\n",
        "    models = []\n",
        "    for train_index, valid_index in kf.split(x_data):\n",
        "        x_train, y_train = x_data.iloc[train_index], y_data[train_index]\n",
        "        x_valid, y_valid = x_data.iloc[valid_index], y_data[valid_index]\n",
        "        \n",
        "        model = lgb.LGBMClassifier(\n",
        "            num_leaves = int(num_leaves), \n",
        "            learning_rate = learning_rate, \n",
        "            n_estimators = int(n_estimators), \n",
        "            subsample = np.clip(subsample, 0, 1), \n",
        "            colsample_bytree = np.clip(colsample_bytree, 0, 1), \n",
        "            reg_alpha = reg_alpha, \n",
        "            reg_lambda = reg_lambda,\n",
        "            bagging_fraction = bagging_fraction,\n",
        "            feature_fraction = feature_fraction,\n",
        "        )\n",
        "        \n",
        "        model.fit(x_train, y_train)\n",
        "        models.append(model)\n",
        "        \n",
        "        pred = model.predict_proba(x_valid)[:, 1]\n",
        "        true = y_valid\n",
        "        score += roc_auc_score(true, pred)/n_splits\n",
        "    \n",
        "    if output == 'score':\n",
        "        return score\n",
        "    if output == 'model':\n",
        "        return models"
      ],
      "execution_count": 0,
      "outputs": []
    },
    {
      "cell_type": "code",
      "metadata": {
        "id": "r0cTn_Cxa8dg",
        "colab_type": "code",
        "outputId": "5e2a2038-9beb-42f8-cf76-b8fd2c99c6f9",
        "colab": {
          "base_uri": "https://localhost:8080/",
          "height": 686
        }
      },
      "source": [
        "# 모델과 관련없는 변수 고정\n",
        "func_fixed = partial(lgb_cv, x_data=x_train, y_data=y_train, n_splits=5, output='score') \n",
        "# 베이지안 최적화 범위 설정\n",
        "lgbBO = BayesianOptimization(\n",
        "    func_fixed, \n",
        "    {\n",
        "        'num_leaves': (16, 128),        # num_leaves,       범위(16~1024)\n",
        "        'learning_rate': (0.0001, 0.1),  # learning_rate,    범위(0.0001~0.1)\n",
        "        'n_estimators': (16, 1024),      # n_estimators,     범위(16~1024)\n",
        "        'subsample': (0, 0.2),             # subsample,        범위(0~1)\n",
        "        'colsample_bytree': (0, 1),      # colsample_bytree, 범위(0~1)\n",
        "        'reg_alpha': (0, 10),            # reg_alpha,        범위(0~10)\n",
        "        'reg_lambda': (0, 50),           # reg_lambda,       범위(0~50)\n",
        "        'bagging_fraction': (0.1, 1.0),\n",
        "        'feature_fraction': (0.1, 1.0),\n",
        "    }, \n",
        "    random_state=4321                    # 시드 고정\n",
        ")\n",
        "lgbBO.maximize(init_points=5, n_iter=30) # 처음 5회 랜덤 값으로 score 계산 후 30회 최적화\n",
        "\n",
        "# 이 예제에서는 7개 하이퍼 파라미터에 대해 30회 조정을 시도했습니다.\n",
        "# 다양한 하이퍼 파라미터, 더 많은 iteration을 시도하여 최상의 모델을 얻어보세요!\n",
        "# LightGBM Classifier: https://lightgbm.readthedocs.io/en/latest/pythonapi/lightgbm.LGBMClassifier.html"
      ],
      "execution_count": 30,
      "outputs": [
        {
          "output_type": "stream",
          "text": [
            "|   iter    |  target   | baggin... | colsam... | featur... | learni... | n_esti... | num_le... | reg_alpha | reg_la... | subsample |\n",
            "-------------------------------------------------------------------------------------------------------------------------------------\n",
            "| \u001b[0m 1       \u001b[0m | \u001b[0m 0.6368  \u001b[0m | \u001b[0m 0.1637  \u001b[0m | \u001b[0m 0.8151  \u001b[0m | \u001b[0m 0.7911  \u001b[0m | \u001b[0m 0.02871 \u001b[0m | \u001b[0m 210.6   \u001b[0m | \u001b[0m 125.6   \u001b[0m | \u001b[0m 4.062   \u001b[0m | \u001b[0m 37.89   \u001b[0m | \u001b[0m 0.01783 \u001b[0m |\n",
            "| \u001b[95m 2       \u001b[0m | \u001b[95m 0.6581  \u001b[0m | \u001b[95m 0.3789  \u001b[0m | \u001b[95m 0.6189  \u001b[0m | \u001b[95m 0.5139  \u001b[0m | \u001b[95m 0.02191 \u001b[0m | \u001b[95m 684.8   \u001b[0m | \u001b[95m 92.01   \u001b[0m | \u001b[95m 9.503   \u001b[0m | \u001b[95m 14.06   \u001b[0m | \u001b[95m 0.124   \u001b[0m |\n",
            "| \u001b[0m 3       \u001b[0m | \u001b[0m 0.6438  \u001b[0m | \u001b[0m 0.445   \u001b[0m | \u001b[0m 0.4004  \u001b[0m | \u001b[0m 0.9484  \u001b[0m | \u001b[0m 0.093   \u001b[0m | \u001b[0m 972.0   \u001b[0m | \u001b[0m 58.05   \u001b[0m | \u001b[0m 3.423   \u001b[0m | \u001b[0m 33.24   \u001b[0m | \u001b[0m 0.008464\u001b[0m |\n",
            "| \u001b[0m 4       \u001b[0m | \u001b[0m 0.6043  \u001b[0m | \u001b[0m 0.309   \u001b[0m | \u001b[0m 0.4301  \u001b[0m | \u001b[0m 0.1701  \u001b[0m | \u001b[0m 0.07668 \u001b[0m | \u001b[0m 876.7   \u001b[0m | \u001b[0m 32.85   \u001b[0m | \u001b[0m 1.011   \u001b[0m | \u001b[0m 13.55   \u001b[0m | \u001b[0m 0.006033\u001b[0m |\n",
            "| \u001b[0m 5       \u001b[0m | \u001b[0m 0.653   \u001b[0m | \u001b[0m 0.854   \u001b[0m | \u001b[0m 0.5976  \u001b[0m | \u001b[0m 0.938   \u001b[0m | \u001b[0m 0.0496  \u001b[0m | \u001b[0m 395.5   \u001b[0m | \u001b[0m 43.3    \u001b[0m | \u001b[0m 6.018   \u001b[0m | \u001b[0m 16.48   \u001b[0m | \u001b[0m 0.09234 \u001b[0m |\n",
            "| \u001b[0m 6       \u001b[0m | \u001b[0m 0.63    \u001b[0m | \u001b[0m 1.0     \u001b[0m | \u001b[0m 1.0     \u001b[0m | \u001b[0m 0.1     \u001b[0m | \u001b[0m 0.0001  \u001b[0m | \u001b[0m 1.024e+0\u001b[0m | \u001b[0m 128.0   \u001b[0m | \u001b[0m 2.564   \u001b[0m | \u001b[0m 0.0     \u001b[0m | \u001b[0m 0.0     \u001b[0m |\n",
            "| \u001b[0m 7       \u001b[0m | \u001b[0m 0.5088  \u001b[0m | \u001b[0m 0.1     \u001b[0m | \u001b[0m 0.0     \u001b[0m | \u001b[0m 0.1     \u001b[0m | \u001b[0m 0.0001  \u001b[0m | \u001b[0m 16.0    \u001b[0m | \u001b[0m 16.0    \u001b[0m | \u001b[0m 10.0    \u001b[0m | \u001b[0m 50.0    \u001b[0m | \u001b[0m 0.06323 \u001b[0m |\n",
            "| \u001b[0m 8       \u001b[0m | \u001b[0m 0.6364  \u001b[0m | \u001b[0m 0.4234  \u001b[0m | \u001b[0m 0.5205  \u001b[0m | \u001b[0m 0.9679  \u001b[0m | \u001b[0m 0.03575 \u001b[0m | \u001b[0m 482.1   \u001b[0m | \u001b[0m 125.7   \u001b[0m | \u001b[0m 2.292   \u001b[0m | \u001b[0m 47.76   \u001b[0m | \u001b[0m 0.1997  \u001b[0m |\n",
            "| \u001b[0m 9       \u001b[0m | \u001b[0m 0.6554  \u001b[0m | \u001b[0m 0.9468  \u001b[0m | \u001b[0m 0.2753  \u001b[0m | \u001b[0m 0.3041  \u001b[0m | \u001b[0m 0.09495 \u001b[0m | \u001b[0m 872.4   \u001b[0m | \u001b[0m 126.1   \u001b[0m | \u001b[0m 9.821   \u001b[0m | \u001b[0m 48.87   \u001b[0m | \u001b[0m 0.1962  \u001b[0m |\n",
            "| \u001b[0m 10      \u001b[0m | \u001b[0m 0.6436  \u001b[0m | \u001b[0m 0.7217  \u001b[0m | \u001b[0m 0.6755  \u001b[0m | \u001b[0m 0.9961  \u001b[0m | \u001b[0m 0.03108 \u001b[0m | \u001b[0m 394.9   \u001b[0m | \u001b[0m 44.06   \u001b[0m | \u001b[0m 2.822   \u001b[0m | \u001b[0m 17.96   \u001b[0m | \u001b[0m 0.01492 \u001b[0m |\n",
            "| \u001b[0m 11      \u001b[0m | \u001b[0m 0.6372  \u001b[0m | \u001b[0m 0.8979  \u001b[0m | \u001b[0m 0.3463  \u001b[0m | \u001b[0m 0.2651  \u001b[0m | \u001b[0m 0.005702\u001b[0m | \u001b[0m 17.29   \u001b[0m | \u001b[0m 117.6   \u001b[0m | \u001b[0m 9.709   \u001b[0m | \u001b[0m 1.309   \u001b[0m | \u001b[0m 0.09455 \u001b[0m |\n",
            "| \u001b[95m 12      \u001b[0m | \u001b[95m 0.6583  \u001b[0m | \u001b[95m 0.1879  \u001b[0m | \u001b[95m 0.7374  \u001b[0m | \u001b[95m 0.9562  \u001b[0m | \u001b[95m 0.09574 \u001b[0m | \u001b[95m 346.4   \u001b[0m | \u001b[95m 125.3   \u001b[0m | \u001b[95m 9.16    \u001b[0m | \u001b[95m 0.5372  \u001b[0m | \u001b[95m 0.1073  \u001b[0m |\n",
            "| \u001b[95m 13      \u001b[0m | \u001b[95m 0.6611  \u001b[0m | \u001b[95m 0.4664  \u001b[0m | \u001b[95m 0.6987  \u001b[0m | \u001b[95m 0.8249  \u001b[0m | \u001b[95m 0.06139 \u001b[0m | \u001b[95m 640.7   \u001b[0m | \u001b[95m 18.51   \u001b[0m | \u001b[95m 8.77    \u001b[0m | \u001b[95m 48.46   \u001b[0m | \u001b[95m 0.1673  \u001b[0m |\n",
            "| \u001b[95m 14      \u001b[0m | \u001b[95m 0.6661  \u001b[0m | \u001b[95m 0.7097  \u001b[0m | \u001b[95m 0.5289  \u001b[0m | \u001b[95m 0.3103  \u001b[0m | \u001b[95m 0.02174 \u001b[0m | \u001b[95m 1.017e+0\u001b[0m | \u001b[95m 22.86   \u001b[0m | \u001b[95m 7.428   \u001b[0m | \u001b[95m 49.02   \u001b[0m | \u001b[95m 0.05919 \u001b[0m |\n",
            "| \u001b[0m 15      \u001b[0m | \u001b[0m 0.6512  \u001b[0m | \u001b[0m 0.1796  \u001b[0m | \u001b[0m 0.8106  \u001b[0m | \u001b[0m 0.214   \u001b[0m | \u001b[0m 0.0194  \u001b[0m | \u001b[0m 535.8   \u001b[0m | \u001b[0m 42.3    \u001b[0m | \u001b[0m 9.637   \u001b[0m | \u001b[0m 0.2389  \u001b[0m | \u001b[0m 0.07801 \u001b[0m |\n",
            "| \u001b[0m 16      \u001b[0m | \u001b[0m 0.6604  \u001b[0m | \u001b[0m 0.3498  \u001b[0m | \u001b[0m 0.9984  \u001b[0m | \u001b[0m 0.1388  \u001b[0m | \u001b[0m 0.06854 \u001b[0m | \u001b[0m 204.0   \u001b[0m | \u001b[0m 18.68   \u001b[0m | \u001b[0m 8.843   \u001b[0m | \u001b[0m 0.8539  \u001b[0m | \u001b[0m 0.009782\u001b[0m |\n",
            "| \u001b[0m 17      \u001b[0m | \u001b[0m 0.643   \u001b[0m | \u001b[0m 0.8492  \u001b[0m | \u001b[0m 0.9114  \u001b[0m | \u001b[0m 0.8414  \u001b[0m | \u001b[0m 0.007901\u001b[0m | \u001b[0m 1.02e+03\u001b[0m | \u001b[0m 124.9   \u001b[0m | \u001b[0m 5.871   \u001b[0m | \u001b[0m 46.43   \u001b[0m | \u001b[0m 0.05811 \u001b[0m |\n",
            "| \u001b[0m 18      \u001b[0m | \u001b[0m 0.6564  \u001b[0m | \u001b[0m 0.7673  \u001b[0m | \u001b[0m 0.5313  \u001b[0m | \u001b[0m 0.9224  \u001b[0m | \u001b[0m 0.02337 \u001b[0m | \u001b[0m 646.8   \u001b[0m | \u001b[0m 124.2   \u001b[0m | \u001b[0m 9.775   \u001b[0m | \u001b[0m 47.71   \u001b[0m | \u001b[0m 0.1183  \u001b[0m |\n",
            "| \u001b[0m 19      \u001b[0m | \u001b[0m 0.6575  \u001b[0m | \u001b[0m 0.801   \u001b[0m | \u001b[0m 0.3493  \u001b[0m | \u001b[0m 0.2081  \u001b[0m | \u001b[0m 0.04014 \u001b[0m | \u001b[0m 127.4   \u001b[0m | \u001b[0m 119.2   \u001b[0m | \u001b[0m 9.002   \u001b[0m | \u001b[0m 0.8853  \u001b[0m | \u001b[0m 0.09221 \u001b[0m |\n",
            "| \u001b[0m 20      \u001b[0m | \u001b[0m 0.6576  \u001b[0m | \u001b[0m 0.8995  \u001b[0m | \u001b[0m 0.7498  \u001b[0m | \u001b[0m 0.8436  \u001b[0m | \u001b[0m 0.02094 \u001b[0m | \u001b[0m 445.7   \u001b[0m | \u001b[0m 19.31   \u001b[0m | \u001b[0m 9.97    \u001b[0m | \u001b[0m 49.63   \u001b[0m | \u001b[0m 0.1531  \u001b[0m |\n",
            "| \u001b[0m 21      \u001b[0m | \u001b[0m 0.6607  \u001b[0m | \u001b[0m 0.6638  \u001b[0m | \u001b[0m 0.12    \u001b[0m | \u001b[0m 0.6898  \u001b[0m | \u001b[0m 0.04777 \u001b[0m | \u001b[0m 267.8   \u001b[0m | \u001b[0m 52.84   \u001b[0m | \u001b[0m 9.673   \u001b[0m | \u001b[0m 2.441   \u001b[0m | \u001b[0m 0.15    \u001b[0m |\n",
            "| \u001b[0m 22      \u001b[0m | \u001b[0m 0.6568  \u001b[0m | \u001b[0m 0.7257  \u001b[0m | \u001b[0m 0.3353  \u001b[0m | \u001b[0m 0.1978  \u001b[0m | \u001b[0m 0.02233 \u001b[0m | \u001b[0m 1.021e+0\u001b[0m | \u001b[0m 22.08   \u001b[0m | \u001b[0m 9.075   \u001b[0m | \u001b[0m 4.199   \u001b[0m | \u001b[0m 0.185   \u001b[0m |\n",
            "| \u001b[0m 23      \u001b[0m | \u001b[0m 0.6485  \u001b[0m | \u001b[0m 0.7618  \u001b[0m | \u001b[0m 0.8297  \u001b[0m | \u001b[0m 0.6908  \u001b[0m | \u001b[0m 0.002718\u001b[0m | \u001b[0m 743.1   \u001b[0m | \u001b[0m 101.2   \u001b[0m | \u001b[0m 9.993   \u001b[0m | \u001b[0m 49.19   \u001b[0m | \u001b[0m 0.03005 \u001b[0m |\n",
            "| \u001b[0m 24      \u001b[0m | \u001b[0m 0.6556  \u001b[0m | \u001b[0m 0.5318  \u001b[0m | \u001b[0m 0.7548  \u001b[0m | \u001b[0m 0.5473  \u001b[0m | \u001b[0m 0.02766 \u001b[0m | \u001b[0m 339.8   \u001b[0m | \u001b[0m 16.61   \u001b[0m | \u001b[0m 9.846   \u001b[0m | \u001b[0m 2.353   \u001b[0m | \u001b[0m 0.1644  \u001b[0m |\n",
            "| \u001b[0m 25      \u001b[0m | \u001b[0m 0.6611  \u001b[0m | \u001b[0m 0.8906  \u001b[0m | \u001b[0m 0.3361  \u001b[0m | \u001b[0m 0.2024  \u001b[0m | \u001b[0m 0.02715 \u001b[0m | \u001b[0m 357.3   \u001b[0m | \u001b[0m 104.0   \u001b[0m | \u001b[0m 8.915   \u001b[0m | \u001b[0m 49.24   \u001b[0m | \u001b[0m 0.117   \u001b[0m |\n",
            "| \u001b[0m 26      \u001b[0m | \u001b[0m 0.6546  \u001b[0m | \u001b[0m 0.7506  \u001b[0m | \u001b[0m 0.1389  \u001b[0m | \u001b[0m 0.2211  \u001b[0m | \u001b[0m 0.09849 \u001b[0m | \u001b[0m 983.5   \u001b[0m | \u001b[0m 23.24   \u001b[0m | \u001b[0m 9.932   \u001b[0m | \u001b[0m 49.08   \u001b[0m | \u001b[0m 0.01877 \u001b[0m |\n",
            "| \u001b[0m 27      \u001b[0m | \u001b[0m 0.6523  \u001b[0m | \u001b[0m 0.7333  \u001b[0m | \u001b[0m 0.4878  \u001b[0m | \u001b[0m 0.159   \u001b[0m | \u001b[0m 0.0253  \u001b[0m | \u001b[0m 578.2   \u001b[0m | \u001b[0m 56.64   \u001b[0m | \u001b[0m 9.804   \u001b[0m | \u001b[0m 47.88   \u001b[0m | \u001b[0m 0.1529  \u001b[0m |\n",
            "| \u001b[0m 28      \u001b[0m | \u001b[0m 0.6553  \u001b[0m | \u001b[0m 0.1251  \u001b[0m | \u001b[0m 0.058   \u001b[0m | \u001b[0m 0.7896  \u001b[0m | \u001b[0m 0.06791 \u001b[0m | \u001b[0m 246.7   \u001b[0m | \u001b[0m 22.21   \u001b[0m | \u001b[0m 9.74    \u001b[0m | \u001b[0m 49.69   \u001b[0m | \u001b[0m 0.1264  \u001b[0m |\n",
            "| \u001b[0m 29      \u001b[0m | \u001b[0m 0.6471  \u001b[0m | \u001b[0m 0.6037  \u001b[0m | \u001b[0m 0.6727  \u001b[0m | \u001b[0m 0.1173  \u001b[0m | \u001b[0m 0.04164 \u001b[0m | \u001b[0m 737.0   \u001b[0m | \u001b[0m 126.5   \u001b[0m | \u001b[0m 9.982   \u001b[0m | \u001b[0m 5.387   \u001b[0m | \u001b[0m 0.1499  \u001b[0m |\n",
            "| \u001b[0m 30      \u001b[0m | \u001b[0m 0.6547  \u001b[0m | \u001b[0m 0.2427  \u001b[0m | \u001b[0m 0.4419  \u001b[0m | \u001b[0m 0.692   \u001b[0m | \u001b[0m 0.0988  \u001b[0m | \u001b[0m 664.5   \u001b[0m | \u001b[0m 22.97   \u001b[0m | \u001b[0m 9.984   \u001b[0m | \u001b[0m 1.067   \u001b[0m | \u001b[0m 0.131   \u001b[0m |\n",
            "| \u001b[0m 31      \u001b[0m | \u001b[0m 0.6622  \u001b[0m | \u001b[0m 0.9737  \u001b[0m | \u001b[0m 0.1732  \u001b[0m | \u001b[0m 0.8424  \u001b[0m | \u001b[0m 0.01206 \u001b[0m | \u001b[0m 444.1   \u001b[0m | \u001b[0m 126.4   \u001b[0m | \u001b[0m 9.188   \u001b[0m | \u001b[0m 0.3781  \u001b[0m | \u001b[0m 0.049   \u001b[0m |\n",
            "| \u001b[0m 32      \u001b[0m | \u001b[0m 0.6544  \u001b[0m | \u001b[0m 0.6176  \u001b[0m | \u001b[0m 0.5144  \u001b[0m | \u001b[0m 0.2107  \u001b[0m | \u001b[0m 0.06241 \u001b[0m | \u001b[0m 590.0   \u001b[0m | \u001b[0m 118.5   \u001b[0m | \u001b[0m 8.808   \u001b[0m | \u001b[0m 3.324   \u001b[0m | \u001b[0m 0.1657  \u001b[0m |\n",
            "| \u001b[0m 33      \u001b[0m | \u001b[0m 0.6601  \u001b[0m | \u001b[0m 0.1562  \u001b[0m | \u001b[0m 0.9041  \u001b[0m | \u001b[0m 0.9232  \u001b[0m | \u001b[0m 0.004528\u001b[0m | \u001b[0m 1.02e+03\u001b[0m | \u001b[0m 50.57   \u001b[0m | \u001b[0m 9.407   \u001b[0m | \u001b[0m 49.81   \u001b[0m | \u001b[0m 0.1547  \u001b[0m |\n",
            "| \u001b[0m 34      \u001b[0m | \u001b[0m 0.6586  \u001b[0m | \u001b[0m 0.2503  \u001b[0m | \u001b[0m 0.8657  \u001b[0m | \u001b[0m 0.933   \u001b[0m | \u001b[0m 0.04226 \u001b[0m | \u001b[0m 178.4   \u001b[0m | \u001b[0m 77.15   \u001b[0m | \u001b[0m 9.924   \u001b[0m | \u001b[0m 6.683   \u001b[0m | \u001b[0m 0.1799  \u001b[0m |\n",
            "| \u001b[0m 35      \u001b[0m | \u001b[0m 0.6442  \u001b[0m | \u001b[0m 0.4946  \u001b[0m | \u001b[0m 0.07499 \u001b[0m | \u001b[0m 0.9439  \u001b[0m | \u001b[0m 0.06998 \u001b[0m | \u001b[0m 1.023e+0\u001b[0m | \u001b[0m 20.07   \u001b[0m | \u001b[0m 4.591   \u001b[0m | \u001b[0m 46.51   \u001b[0m | \u001b[0m 0.1528  \u001b[0m |\n",
            "=====================================================================================================================================\n"
          ],
          "name": "stdout"
        }
      ]
    },
    {
      "cell_type": "markdown",
      "metadata": {
        "id": "J0zbA9DAgVMr",
        "colab_type": "text"
      },
      "source": [
        "# 모델 학습 및 검증"
      ]
    },
    {
      "cell_type": "code",
      "metadata": {
        "id": "a3c48CEKbLxd",
        "colab_type": "code",
        "colab": {}
      },
      "source": [
        "params = lgbBO.max['params']\n",
        "models = lgb_cv(\n",
        "    params['num_leaves'], \n",
        "    params['learning_rate'], \n",
        "    params['n_estimators'], \n",
        "    params['subsample'], \n",
        "    params['colsample_bytree'], \n",
        "    params['reg_alpha'], \n",
        "    params['reg_lambda'], \n",
        "    x_data=x_train, y_data=y_train, n_splits=5, output='model')"
      ],
      "execution_count": 0,
      "outputs": []
    },
    {
      "cell_type": "code",
      "metadata": {
        "id": "DXbBJlF9f5iq",
        "colab_type": "code",
        "outputId": "09dde85a-bab3-44e6-b547-0427eceab511",
        "colab": {
          "base_uri": "https://localhost:8080/",
          "height": 34
        }
      },
      "source": [
        "test = pd.read_csv('data/test.csv')\n",
        "x_test, _ = data_preparation(test, answer=False)"
      ],
      "execution_count": 0,
      "outputs": [
        {
          "output_type": "stream",
          "text": [
            "100%|██████████| 16787/16787 [03:47<00:00, 73.67it/s]\n"
          ],
          "name": "stderr"
        }
      ]
    },
    {
      "cell_type": "code",
      "metadata": {
        "id": "SEUNoMw6gkqI",
        "colab_type": "code",
        "outputId": "964a6dac-ca37-42d6-bfcc-6295f65d0743",
        "colab": {
          "base_uri": "https://localhost:8080/",
          "height": 225
        }
      },
      "source": [
        "preds = []\n",
        "for model in models:\n",
        "    pred = model.predict_proba(x_test)[:, 1]\n",
        "    preds.append(pred)\n",
        "pred = np.mean(preds, axis=0)\n",
        "\n",
        "submission = pd.read_csv('data/sample_submission.csv', index_col=0)\n",
        "submission['winner'] = submission['winner'] + pred\n",
        "submission.to_csv('mini_submission.csv')\n",
        "submission.head()"
      ],
      "execution_count": 0,
      "outputs": [
        {
          "output_type": "execute_result",
          "data": {
            "text/html": [
              "<div>\n",
              "<style scoped>\n",
              "    .dataframe tbody tr th:only-of-type {\n",
              "        vertical-align: middle;\n",
              "    }\n",
              "\n",
              "    .dataframe tbody tr th {\n",
              "        vertical-align: top;\n",
              "    }\n",
              "\n",
              "    .dataframe thead th {\n",
              "        text-align: right;\n",
              "    }\n",
              "</style>\n",
              "<table border=\"1\" class=\"dataframe\">\n",
              "  <thead>\n",
              "    <tr style=\"text-align: right;\">\n",
              "      <th></th>\n",
              "      <th>winner</th>\n",
              "    </tr>\n",
              "    <tr>\n",
              "      <th>game_id</th>\n",
              "      <th></th>\n",
              "    </tr>\n",
              "  </thead>\n",
              "  <tbody>\n",
              "    <tr>\n",
              "      <th>38872</th>\n",
              "      <td>0.545845</td>\n",
              "    </tr>\n",
              "    <tr>\n",
              "      <th>38873</th>\n",
              "      <td>0.463037</td>\n",
              "    </tr>\n",
              "    <tr>\n",
              "      <th>38874</th>\n",
              "      <td>0.424968</td>\n",
              "    </tr>\n",
              "    <tr>\n",
              "      <th>38875</th>\n",
              "      <td>0.384724</td>\n",
              "    </tr>\n",
              "    <tr>\n",
              "      <th>38876</th>\n",
              "      <td>0.446188</td>\n",
              "    </tr>\n",
              "  </tbody>\n",
              "</table>\n",
              "</div>"
            ],
            "text/plain": [
              "           winner\n",
              "game_id          \n",
              "38872    0.545845\n",
              "38873    0.463037\n",
              "38874    0.424968\n",
              "38875    0.384724\n",
              "38876    0.446188"
            ]
          },
          "metadata": {
            "tags": []
          },
          "execution_count": 60
        }
      ]
    },
    {
      "cell_type": "code",
      "metadata": {
        "id": "N7oPm-IyhlQR",
        "colab_type": "code",
        "colab": {}
      },
      "source": [
        ""
      ],
      "execution_count": 0,
      "outputs": []
    }
  ]
}